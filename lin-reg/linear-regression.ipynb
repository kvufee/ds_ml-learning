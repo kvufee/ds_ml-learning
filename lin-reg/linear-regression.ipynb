{
 "cells": [
  {
   "cell_type": "code",
   "execution_count": 45,
   "id": "f9ce5c48-a1fc-40fe-b2a8-4835323d1819",
   "metadata": {},
   "outputs": [],
   "source": [
    "from typing import List, Union\n",
    "\n",
    "import numpy as np\n",
    "import matplotlib.pyplot as plt\n",
    "from sklearn.model_selection import train_test_split\n",
    "from sklearn.datasets import make_regression\n",
    "from sklearn.metrics import mean_absolute_error as mae"
   ]
  },
  {
   "cell_type": "code",
   "execution_count": 67,
   "id": "7a7e1c95-90af-4732-bc35-cfc1b4cce76f",
   "metadata": {
    "tags": []
   },
   "outputs": [],
   "source": [
    "X, y = make_regression(n_samples = 1000,\n",
    "                       n_features = 1,\n",
    "                       noise = 1,\n",
    "                       random_state=True)\n",
    "\n",
    "X_train, X_test, y_train, y_test = train_test_split(X.reshape(-1), y)"
   ]
  },
  {
   "cell_type": "code",
   "execution_count": 69,
   "id": "2dd961db-4d80-4fc4-ab5a-a403510a76a5",
   "metadata": {
    "tags": []
   },
   "outputs": [],
   "source": [
    "class LinearRegression:\n",
    "    \n",
    "    def __init__(self) -> None:\n",
    "        self.learning_rate = 0.1\n",
    "        self.m = 0\n",
    "        self.b = 0\n",
    "        \n",
    "        \n",
    "    def fit(self, X:np.ndarray, y:np.ndarray, n_epochs: int = 100) -> None:\n",
    "        self.X = X\n",
    "        self.y = y\n",
    "        \n",
    "        loss = np.array([])\n",
    "        \n",
    "        for epoch in range(n_epochs):\n",
    "            for i in range(len(X)):\n",
    "                loss = np.append(loss, (np.square(self.predict(X[i]) - y[i])))\n",
    "\n",
    "                der_m, der_b = self.calculate_descent(X[i], y[i])\n",
    "\n",
    "                self.m = self.m - self.learning_rate * der_m\n",
    "                self.b = self.b - self.learning_rate * der_b\n",
    "\n",
    "        \n",
    "    def calculate_descent(self, X, y):\n",
    "        der_m = 2 * ((self.m * X + self.b) - y) * X\n",
    "        der_b = 2 * ((self.m * X + self.b) - y)\n",
    "        \n",
    "        return der_m, der_b\n",
    "    \n",
    "        \n",
    "    def predict(self, X:float):\n",
    "        return self.m * X + self.b"
   ]
  },
  {
   "cell_type": "code",
   "execution_count": 70,
   "id": "8cac39ac-6a68-4e31-99dd-2cceec107a31",
   "metadata": {},
   "outputs": [
    {
     "data": {
      "image/png": "[encoded data removed]",
      "text/plain": [
       "<Figure size 640x480 with 1 Axes>"
      ]
     },
     "metadata": {},
     "output_type": "display_data"
    }
   ],
   "source": [
    "plt.scatter(X, y)\n",
    "plt.show()"
   ]
  },
  {
   "cell_type": "code",
   "execution_count": 71,
   "id": "ef4a92e4-c365-4fd9-940d-71428d6df03f",
   "metadata": {
    "tags": []
   },
   "outputs": [
    {
     "name": "stdout",
     "output_type": "stream",
     "text": [
      "8.775020470484124\n",
      "1.2884015270364553\n",
      "1.2884015270364553\n",
      "1.2884015270364553\n",
      "1.2884015270364553\n",
      "1.2884015270364553\n",
      "1.2884015270364553\n",
      "1.2884015270364553\n",
      "1.2884015270364553\n",
      "1.2884015270364553\n"
     ]
    }
   ],
   "source": [
    "lr = LinearRegression()\n",
    "lr.fit(X_train, y_train, 10)"
   ]
  },
  {
   "cell_type": "code",
   "execution_count": 72,
   "id": "c0e776e7-2e1d-4dcb-8f74-1b366ac9c7ca",
   "metadata": {
    "tags": []
   },
   "outputs": [],
   "source": [
    "preds = lr.predict(X_test)"
   ]
  },
  {
   "cell_type": "code",
   "execution_count": 73,
   "id": "50754da0-e994-4e0f-8797-ee3fb56b12ef",
   "metadata": {
    "tags": []
   },
   "outputs": [
    {
     "data": {
      "text/plain": [
       "1.0104853790365802"
      ]
     },
     "execution_count": 73,
     "metadata": {},
     "output_type": "execute_result"
    }
   ],
   "source": [
    "mae(preds, y_test)"
   ]
  },
  {
   "cell_type": "code",
   "execution_count": 74,
   "id": "6ecfe2d2-9b29-4e8a-a353-432bc572bd4f",
   "metadata": {
    "tags": []
   },
   "outputs": [
    {
     "data": {
      "text/plain": [
       "272.2790660854249"
      ]
     },
     "execution_count": 74,
     "metadata": {},
     "output_type": "execute_result"
    }
   ],
   "source": [
    "max(y) - min(y)"
   ]
  },
  {
   "cell_type": "code",
   "execution_count": null,
   "id": "373663b8-f5d3-44dd-b9c0-084049312404",
   "metadata": {},
   "outputs": [],
   "source": []
  }
 ],
 "metadata": {
  "kernelspec": {
   "display_name": "Python 3 (ipykernel)",
   "language": "python",
   "name": "python3"
  },
  "language_info": {
   "codemirror_mode": {
    "name": "ipython",
    "version": 3
   },
   "file_extension": ".py",
   "mimetype": "text/x-python",
   "name": "python",
   "nbconvert_exporter": "python",
   "pygments_lexer": "ipython3",
   "version": "3.9.15"
  }
 },
 "nbformat": 4,
 "nbformat_minor": 5
}
