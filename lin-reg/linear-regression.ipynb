{
 "cells": [
  {
   "cell_type": "code",
   "execution_count": 3,
   "id": "f9ce5c48-a1fc-40fe-b2a8-4835323d1819",
   "metadata": {},
   "outputs": [],
   "source": [
    "from typing import List\n",
    "\n",
    "import numpy as np\n",
    "from sklearn.model_selection import train_test_split\n",
    "from sklearn.datasets import make_regression"
   ]
  },
  {
   "cell_type": "code",
   "execution_count": 4,
   "id": "7a7e1c95-90af-4732-bc35-cfc1b4cce76f",
   "metadata": {
    "tags": []
   },
   "outputs": [],
   "source": [
    "X, y = make_regression(n_samples = 10000,\n",
    "                       n_features = 1,\n",
    "                       noise = 20,\n",
    "                       random_state=True)\n",
    "\n",
    "X_train, X_test, y_train, y_test = train_test_split(X, y)"
   ]
  },
  {
   "cell_type": "code",
   "execution_count": 10,
   "id": "2dd961db-4d80-4fc4-ab5a-a403510a76a5",
   "metadata": {
    "tags": []
   },
   "outputs": [
    {
     "ename": "SyntaxError",
     "evalue": "invalid syntax (3942989018.py, line 15)",
     "output_type": "error",
     "traceback": [
      "\u001b[0;36m  Cell \u001b[0;32mIn[10], line 15\u001b[0;36m\u001b[0m\n\u001b[0;31m    def predict(self) -> List[float]:\u001b[0m\n\u001b[0m    ^\u001b[0m\n\u001b[0;31mSyntaxError\u001b[0m\u001b[0;31m:\u001b[0m invalid syntax\n"
     ]
    }
   ],
   "source": [
    "class LinearRegression():\n",
    "    \n",
    "    def __init__(self) -> None:\n",
    "        self.totalError = 0\n",
    "        self.learningRate = 0.005\n",
    "        \n",
    "    def fit(self, X:List[float], y:List[float]) -> None:\n",
    "        self.X = X\n",
    "        self.y = y\n",
    "        \n",
    "        for item in range(len(y_train)):\n",
    "            self.totalError += (y_train[i] - \n",
    "        \n",
    "                        \n",
    "    def predict(self) -> List[float]:"
   ]
  },
  {
   "cell_type": "code",
   "execution_count": null,
   "id": "a8e0080e-7039-4031-9646-b146593cc46b",
   "metadata": {},
   "outputs": [],
   "source": []
  }
 ],
 "metadata": {
  "kernelspec": {
   "display_name": "Python 3 (ipykernel)",
   "language": "python",
   "name": "python3"
  },
  "language_info": {
   "codemirror_mode": {
    "name": "ipython",
    "version": 3
   },
   "file_extension": ".py",
   "mimetype": "text/x-python",
   "name": "python",
   "nbconvert_exporter": "python",
   "pygments_lexer": "ipython3",
   "version": "3.9.15"
  }
 },
 "nbformat": 4,
 "nbformat_minor": 5
}
