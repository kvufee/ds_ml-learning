{
 "cells": [
  {
   "cell_type": "code",
   "execution_count": 72,
   "id": "5cae152e-3183-4b26-acd9-0cde15902126",
   "metadata": {
    "scrolled": true
   },
   "outputs": [],
   "source": [
    "import time\n",
    "import pandas as pd\n",
    "import undetected_chromedriver as uc\n",
    "\n",
    "from selenium import webdriver\n",
    "from bs4 import BeautifulSoup\n",
    "from selenium.webdriver.chrome.service import Service\n",
    "from selenium.webdriver.common.by import By\n",
    "from selenium.common import StaleElementReferenceException, NoSuchElementException\n",
    "from selenium.webdriver.chrome.options import Options"
   ]
  },
  {
   "cell_type": "markdown",
   "id": "cd2f2a27-46ff-49c6-bc24-cfc0765c9768",
   "metadata": {},
   "source": [
    "###"
   ]
  },
  {
   "cell_type": "markdown",
   "id": "674e78de-d14c-4434-b496-7901127f847f",
   "metadata": {},
   "source": [
    "### Define global data arrays"
   ]
  },
  {
   "cell_type": "code",
   "execution_count": 73,
   "id": "6c4ff82f-15fc-4e96-9732-e0c599052b96",
   "metadata": {},
   "outputs": [],
   "source": [
    "CONFUCIUS = [] # 215\n",
    "NIETSCHE = [] # 156\n",
    "SOCRATOS = [] # 119\n",
    "SHAKESPEAR = [] # 211\n",
    "SHOPENGHAUER = [] # 397\n",
    "EINSTEIN = [] # 281\n",
    "JAK_FRESKO = [] # 78\n",
    "ARISTOTEL = [] # 227\n",
    "HIPPOCRATUS = [] # 114\n",
    "CR7 = [] # 78\n",
    "FREID = [] # 127"
   ]
  },
  {
   "cell_type": "markdown",
   "id": "92b74a25-29f5-45c1-aa30-3c6a7a51873f",
   "metadata": {},
   "source": [
    "##"
   ]
  },
  {
   "cell_type": "markdown",
   "id": "d24cc176-5853-4134-a8c5-595f491f8550",
   "metadata": {},
   "source": [
    "### Parse script"
   ]
  },
  {
   "cell_type": "code",
   "execution_count": 23,
   "id": "3a137ba7-9067-4162-841e-9e1197d52553",
   "metadata": {},
   "outputs": [],
   "source": [
    "def parseQuotes(url):\n",
    "    driver = uc.Chrome()\n",
    "    driver.get(url)\n",
    "\n",
    "    html = []\n",
    "    \n",
    "    try:\n",
    "        time.sleep(1.5)\n",
    "        accept = driver.find_element(By.XPATH, \"//a[@class='cl-consent__btn cl-consent-node-a']\")\n",
    "        accept.click()\n",
    "    except:\n",
    "        pass\n",
    "    finally:\n",
    "        time.sleep(1.5)\n",
    "        while True:\n",
    "            try:\n",
    "                html.append(driver.page_source)\n",
    "                next_page = driver.find_element(By.XPATH, \"//a[@class='page-link page-link-next iscroll-next']\")\n",
    "                driver.execute_script(\"arguments[0].scrollIntoView();\", next_page)\n",
    "                time.sleep(1.5)\n",
    "                next_page.click()\n",
    "            except StaleElementReferenceException:\n",
    "                driver.execute_script(\"window.scrollBy(0, 15000);\")\n",
    "                break\n",
    "            except NoSuchElementException:\n",
    "                driver.execute_script(\"window.scrollBy(0, 15000);\")\n",
    "                break\n",
    "    \n",
    "    driver.quit()\n",
    "\n",
    "    return html"
   ]
  },
  {
   "cell_type": "markdown",
   "id": "105eac35-1789-4ac2-a815-5bc8654e5b66",
   "metadata": {},
   "source": [
    "## "
   ]
  },
  {
   "cell_type": "markdown",
   "id": "01562246-cd77-440b-8b3f-971af75149fd",
   "metadata": {},
   "source": [
    "### Parse"
   ]
  },
  {
   "cell_type": "code",
   "execution_count": 60,
   "id": "f7a59cec-9bbc-43bd-a64c-57299b410dc9",
   "metadata": {},
   "outputs": [],
   "source": [
    "CONFUCIUS_html = parseQuotes('https://ru.citaty.net/avtory/konfutsii/')"
   ]
  },
  {
   "cell_type": "code",
   "execution_count": 61,
   "id": "57328c11-1faf-4e02-a9fd-e0b05e616a30",
   "metadata": {},
   "outputs": [],
   "source": [
    "NIETSCHE_html = parseQuotes('https://ru.citaty.net/avtory/fridrikh-nitsshe/')"
   ]
  },
  {
   "cell_type": "code",
   "execution_count": 62,
   "id": "c4c07fe9-07ee-4c69-b36a-b21ff9fbc0a5",
   "metadata": {},
   "outputs": [],
   "source": [
    "SOCRATOS_html = parseQuotes('https://ru.citaty.net/avtory/sokrat/')"
   ]
  },
  {
   "cell_type": "code",
   "execution_count": 63,
   "id": "38c5eebe-fe3b-4439-a9f0-df0880bc921b",
   "metadata": {},
   "outputs": [],
   "source": [
    "SHAKESPEAR_html = parseQuotes('https://ru.citaty.net/avtory/uiliam-shekspir/')"
   ]
  },
  {
   "cell_type": "code",
   "execution_count": 64,
   "id": "aad9f1ba-bc79-475d-b7e7-62f4772447de",
   "metadata": {},
   "outputs": [],
   "source": [
    "SHOPENGHAUER_html = parseQuotes('https://ru.citaty.net/avtory/artur-shopengauer/')"
   ]
  },
  {
   "cell_type": "code",
   "execution_count": 65,
   "id": "03a2df38-39ed-4db5-80c9-2c31d970bb57",
   "metadata": {},
   "outputs": [],
   "source": [
    "EINSTEIN_html = parseQuotes('https://ru.citaty.net/avtory/albert-einshtein/')"
   ]
  },
  {
   "cell_type": "code",
   "execution_count": 66,
   "id": "9352fe51-f584-41ad-8f18-622739cc5dcc",
   "metadata": {},
   "outputs": [],
   "source": [
    "JAK_FRESKO_html = parseQuotes('https://ru.citaty.net/avtory/zhak-fresko/')"
   ]
  },
  {
   "cell_type": "code",
   "execution_count": 67,
   "id": "3367d346-c10d-48a9-b7b4-ecacd116f037",
   "metadata": {},
   "outputs": [],
   "source": [
    "ARISTOTEL_html = parseQuotes('https://ru.citaty.net/avtory/aristotel/')"
   ]
  },
  {
   "cell_type": "code",
   "execution_count": 68,
   "id": "18d38759-9d9a-4f97-a3c7-6dcf8c7381f1",
   "metadata": {},
   "outputs": [],
   "source": [
    "HIPPOCRATUS_html = parseQuotes('https://ru.citaty.net/avtory/gippokrat/')"
   ]
  },
  {
   "cell_type": "code",
   "execution_count": 69,
   "id": "fb29a906-5374-4773-8f1e-605a2597db11",
   "metadata": {},
   "outputs": [],
   "source": [
    "CR7_html = parseQuotes('https://ru.citaty.net/avtory/krishtianu-ronaldu/')"
   ]
  },
  {
   "cell_type": "code",
   "execution_count": 70,
   "id": "d1b4b645-ed9c-4ac2-a873-a653ea24d78b",
   "metadata": {},
   "outputs": [],
   "source": [
    "FREID_html = parseQuotes('https://ru.citaty.net/avtory/zigmund-freid/')"
   ]
  },
  {
   "cell_type": "markdown",
   "id": "fedecc55-9bb3-426e-a6ed-e29c739935eb",
   "metadata": {},
   "source": [
    "##"
   ]
  },
  {
   "cell_type": "markdown",
   "id": "2d6ed9bb-0ed8-407b-be1b-f63082c23370",
   "metadata": {},
   "source": [
    "### Preprocess data"
   ]
  },
  {
   "cell_type": "code",
   "execution_count": 74,
   "id": "0073f073-6ecc-4dd2-ae85-5d05178468f1",
   "metadata": {},
   "outputs": [],
   "source": [
    "def preprocessQuotes(soup):\n",
    "    text = []\n",
    "\n",
    "    quotes_list = soup.find_all('p', class_='blockquote-text')\n",
    "    for quote in quotes_list:\n",
    "        text.append(quote.find('a').get_text())\n",
    "\n",
    "    for i in range(len(text)):\n",
    "        text[i] = text[i].replace('„', '').replace('“', '').replace('\\xa0', ' ')\n",
    "\n",
    "    return text"
   ]
  },
  {
   "cell_type": "markdown",
   "id": "9bbcf08a-7b98-442e-96f5-22744d5ab14f",
   "metadata": {},
   "source": [
    "## "
   ]
  },
  {
   "cell_type": "markdown",
   "id": "7c6d5a18-600e-4f9c-bc86-457b61df549a",
   "metadata": {},
   "source": [
    "### Collect data"
   ]
  },
  {
   "cell_type": "code",
   "execution_count": 78,
   "id": "9c0e4022-c777-43df-9d22-1d0a11995021",
   "metadata": {},
   "outputs": [],
   "source": [
    "for i in range(len(CONFUCIUS_html)):\n",
    "    soup = BeautifulSoup(CONFUCIUS_html[i], 'html.parser')\n",
    "    CONFUCIUS.extend(preprocessQuotes(soup))\n",
    "\n",
    "for i in range(len(NIETSCHE_html)):\n",
    "    soup = BeautifulSoup(NIETSCHE_html[i], 'html.parser')\n",
    "    NIETSCHE.extend(preprocessQuotes(soup))\n",
    "\n",
    "for i in range(len(SOCRATOS_html)):\n",
    "    soup = BeautifulSoup(SOCRATOS_html[i], 'html.parser')\n",
    "    SOCRATOS.extend(preprocessQuotes(soup))\n",
    "\n",
    "for i in range(len(SHAKESPEAR_html)):\n",
    "    soup = BeautifulSoup(SHAKESPEAR_html[i], 'html.parser')\n",
    "    SHAKESPEAR.extend(preprocessQuotes(soup))\n",
    "\n",
    "for i in range(len(SHOPENGHAUER_html)):\n",
    "    soup = BeautifulSoup(SHOPENGHAUER_html[i], 'html.parser')\n",
    "    SHOPENGHAUER.extend(preprocessQuotes(soup))\n",
    "\n",
    "for i in range(len(EINSTEIN_html)):\n",
    "    soup = BeautifulSoup(EINSTEIN_html[i], 'html.parser')\n",
    "    EINSTEIN.extend(preprocessQuotes(soup))\n",
    "\n",
    "for i in range(len(JAK_FRESKO_html)):\n",
    "    soup = BeautifulSoup(JAK_FRESKO_html[i], 'html.parser')\n",
    "    JAK_FRESKO.extend(preprocessQuotes(soup))\n",
    "\n",
    "for i in range(len(ARISTOTEL_html)):\n",
    "    soup = BeautifulSoup(ARISTOTEL_html[i], 'html.parser')\n",
    "    ARISTOTEL.extend(preprocessQuotes(soup))\n",
    "\n",
    "for i in range(len(HIPPOCRATUS_html)):\n",
    "    soup = BeautifulSoup(HIPPOCRATUS_html[i], 'html.parser')\n",
    "    HIPPOCRATUS.extend(preprocessQuotes(soup))\n",
    "\n",
    "for i in range(len(CR7_html)):\n",
    "    soup = BeautifulSoup(CR7_html[i], 'html.parser')\n",
    "    CR7.extend(preprocessQuotes(soup))\n",
    "\n",
    "for i in range(len(FREID_html)):\n",
    "    soup = BeautifulSoup(FREID_html[i], 'html.parser')\n",
    "    FREID.extend(preprocessQuotes(soup))"
   ]
  },
  {
   "cell_type": "markdown",
   "id": "4db2584e-3d4b-4373-b1f5-bb9401beb4de",
   "metadata": {},
   "source": [
    "###"
   ]
  },
  {
   "cell_type": "markdown",
   "id": "8d20f276-b1ab-4f9c-9341-3fd87862a95c",
   "metadata": {},
   "source": [
    "### Make dataset"
   ]
  },
  {
   "cell_type": "code",
   "execution_count": 79,
   "id": "7cebd1a4-4f85-46ff-86fe-20e92e087b1b",
   "metadata": {},
   "outputs": [],
   "source": [
    "FINAL = CONFUCIUS + NIETSCHE + SOCRATOS + SHAKESPEAR + SHOPENGHAUER + EINSTEIN + JAK_FRESKO + ARISTOTEL + HIPPOCRATUS + CR7 + FREID"
   ]
  },
  {
   "cell_type": "code",
   "execution_count": 80,
   "id": "e913aa18-e249-4aab-b78f-667bf2a2994e",
   "metadata": {},
   "outputs": [],
   "source": [
    "df = pd.DataFrame(FINAL, columns=['text'])"
   ]
  },
  {
   "cell_type": "code",
   "execution_count": 81,
   "id": "30022dc1-fa17-464b-abcf-4098f82e9f5f",
   "metadata": {},
   "outputs": [],
   "source": [
    "df.to_csv('data.csv', index=False)"
   ]
  },
  {
   "cell_type": "code",
   "execution_count": null,
   "id": "a776174b-96c5-4bf5-a55a-0365d9ba6d4a",
   "metadata": {},
   "outputs": [],
   "source": []
  }
 ],
 "metadata": {
  "kernelspec": {
   "display_name": "Python 3 (ipykernel)",
   "language": "python",
   "name": "python3"
  },
  "language_info": {
   "codemirror_mode": {
    "name": "ipython",
    "version": 3
   },
   "file_extension": ".py",
   "mimetype": "text/x-python",
   "name": "python",
   "nbconvert_exporter": "python",
   "pygments_lexer": "ipython3",
   "version": "3.10.12"
  }
 },
 "nbformat": 4,
 "nbformat_minor": 5
}
