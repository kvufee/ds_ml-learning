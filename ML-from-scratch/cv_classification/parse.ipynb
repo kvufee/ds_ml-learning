{
 "cells": [
  {
   "cell_type": "code",
   "execution_count": 36,
   "id": "e0f1a3c7-793a-4304-a846-aeb998b89a99",
   "metadata": {},
   "outputs": [],
   "source": [
    "import requests\n",
    "import os\n",
    "import pandas as pd\n",
    "import shutil\n",
    "\n",
    "from config import RANDOM_IMAGE_API"
   ]
  },
  {
   "cell_type": "code",
   "execution_count": 53,
   "id": "910f1b56-6a30-43c5-bba6-3fd777c4a4c5",
   "metadata": {},
   "outputs": [],
   "source": [
    "df_size = 650\n",
    "\n",
    "anime_data_url = \"https://nekos.best/api/v2/neko\"\n",
    "anime_img_data = []\n",
    "\n",
    "random_data_url = 'https://api.api-ninjas.com/v1/randomimage'\n",
    "random_img_data = []\n",
    "categories = ['nature', 'city', 'technology', 'food', 'still_life']\n",
    "images_per_category = 130"
   ]
  },
  {
   "cell_type": "code",
   "execution_count": 31,
   "id": "437e16ac-3355-44e3-ab2e-7362665b8946",
   "metadata": {},
   "outputs": [],
   "source": [
    "def get_anime_image(image_url, file_path):\n",
    "    response = requests.get(image_url)\n",
    "    if response.status_code == 200:\n",
    "        with open(file_path, 'wb') as file:\n",
    "            file.write(response.content)"
   ]
  },
  {
   "cell_type": "code",
   "execution_count": 32,
   "id": "61c03566-9393-4607-8111-86ebf4465706",
   "metadata": {},
   "outputs": [
    {
     "name": "stdout",
     "output_type": "stream",
     "text": [
      "всё круто\n"
     ]
    }
   ],
   "source": [
    "for i in range(df_size):\n",
    "    response = requests.get(anime_data_url)\n",
    "    if response.status_code == 200:\n",
    "        json_data = response.json()\n",
    "        image_url = json_data['results'][0]['url']\n",
    "        file_path = f'images/anime_image_{i+1}.jpg'\n",
    "        get_anime_image(image_url, file_path)\n",
    "        anime_img_data.append({'image_url': image_url, 'file_path': file_path})\n",
    "\n",
    "print('всё круто')"
   ]
  },
  {
   "cell_type": "code",
   "execution_count": 51,
   "id": "ab17fc1c-e6f7-4f35-bbeb-ad83d3f345e2",
   "metadata": {},
   "outputs": [],
   "source": [
    "# я спарсил 650 объектов, которые я помечу как 1, нужно спарсить ещё столько же других объектов, которые я помечу как 0 для обучения"
   ]
  },
  {
   "cell_type": "code",
   "execution_count": 50,
   "id": "204e15bc-f50d-4e2f-9346-0594bf381c36",
   "metadata": {},
   "outputs": [
    {
     "name": "stdout",
     "output_type": "stream",
     "text": [
      "всё круто\n"
     ]
    }
   ],
   "source": [
    "for category in categories:\n",
    "    for i in range(images_per_category):\n",
    "        api_url = f'https://api.api-ninjas.com/v1/randomimage?category={category}'\n",
    "        response = requests.get(random_data_url, headers={'X-Api-Key': RANDOM_IMAGE_API, 'Accept': 'image/jpg'}, stream=True)\n",
    "        if response.status_code == 200:\n",
    "            image_path = f'images/{category}_image_{i+1}.jpg'\n",
    "            with open(image_path, 'wb') as out_file:\n",
    "                shutil.copyfileobj(response.raw, out_file)\n",
    "\n",
    "print('всё круто')"
   ]
  },
  {
   "cell_type": "code",
   "execution_count": 55,
   "id": "65c967a3-6693-402b-b6b2-912bdab0c4ab",
   "metadata": {},
   "outputs": [],
   "source": [
    "data = []\n",
    "\n",
    "for filename in os.listdir('images'):\n",
    "    if filename.endswith('.jpg'):\n",
    "        image_path = os.path.join('images', filename)\n",
    "        if filename.startswith('anime_image_'):\n",
    "            label = 1\n",
    "        else:\n",
    "            label = 0\n",
    "        data.append({'image_path': image_path, 'label': label})"
   ]
  },
  {
   "cell_type": "code",
   "execution_count": 58,
   "id": "afe7d731-eacb-4fcf-ac14-5cfdcf7e6d37",
   "metadata": {},
   "outputs": [
    {
     "data": {
      "text/html": [
       "<div>\n",
       "<style scoped>\n",
       "    .dataframe tbody tr th:only-of-type {\n",
       "        vertical-align: middle;\n",
       "    }\n",
       "\n",
       "    .dataframe tbody tr th {\n",
       "        vertical-align: top;\n",
       "    }\n",
       "\n",
       "    .dataframe thead th {\n",
       "        text-align: right;\n",
       "    }\n",
       "</style>\n",
       "<table border=\"1\" class=\"dataframe\">\n",
       "  <thead>\n",
       "    <tr style=\"text-align: right;\">\n",
       "      <th></th>\n",
       "      <th>image_path</th>\n",
       "      <th>label</th>\n",
       "    </tr>\n",
       "  </thead>\n",
       "  <tbody>\n",
       "    <tr>\n",
       "      <th>0</th>\n",
       "      <td>images\\anime_image_1.jpg</td>\n",
       "      <td>1</td>\n",
       "    </tr>\n",
       "    <tr>\n",
       "      <th>1</th>\n",
       "      <td>images\\anime_image_10.jpg</td>\n",
       "      <td>1</td>\n",
       "    </tr>\n",
       "    <tr>\n",
       "      <th>2</th>\n",
       "      <td>images\\anime_image_100.jpg</td>\n",
       "      <td>1</td>\n",
       "    </tr>\n",
       "    <tr>\n",
       "      <th>3</th>\n",
       "      <td>images\\anime_image_101.jpg</td>\n",
       "      <td>1</td>\n",
       "    </tr>\n",
       "    <tr>\n",
       "      <th>4</th>\n",
       "      <td>images\\anime_image_102.jpg</td>\n",
       "      <td>1</td>\n",
       "    </tr>\n",
       "  </tbody>\n",
       "</table>\n",
       "</div>"
      ],
      "text/plain": [
       "                   image_path  label\n",
       "0    images\\anime_image_1.jpg      1\n",
       "1   images\\anime_image_10.jpg      1\n",
       "2  images\\anime_image_100.jpg      1\n",
       "3  images\\anime_image_101.jpg      1\n",
       "4  images\\anime_image_102.jpg      1"
      ]
     },
     "execution_count": 58,
     "metadata": {},
     "output_type": "execute_result"
    }
   ],
   "source": [
    "df = pd.DataFrame(data)\n",
    "df.head(5)"
   ]
  },
  {
   "cell_type": "code",
   "execution_count": 60,
   "id": "6af16323-85db-4279-b618-844deece382d",
   "metadata": {},
   "outputs": [],
   "source": [
    "df.to_csv('data.csv', index=False)"
   ]
  },
  {
   "cell_type": "code",
   "execution_count": null,
   "id": "af89d5cd-d560-48a7-b576-c6b26b2a04c9",
   "metadata": {},
   "outputs": [],
   "source": []
  }
 ],
 "metadata": {
  "kernelspec": {
   "display_name": "Python 3 (ipykernel)",
   "language": "python",
   "name": "python3"
  },
  "language_info": {
   "codemirror_mode": {
    "name": "ipython",
    "version": 3
   },
   "file_extension": ".py",
   "mimetype": "text/x-python",
   "name": "python",
   "nbconvert_exporter": "python",
   "pygments_lexer": "ipython3",
   "version": "3.12.4"
  }
 },
 "nbformat": 4,
 "nbformat_minor": 5
}
