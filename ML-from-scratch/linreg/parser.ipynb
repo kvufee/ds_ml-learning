{
 "cells": [
  {
   "cell_type": "code",
   "execution_count": 36,
   "id": "7d2fc33a-73eb-4c45-9502-08ac328436de",
   "metadata": {},
   "outputs": [],
   "source": [
    "import requests\n",
    "import pandas as pd\n",
    "import numpy as np\n",
    "import re\n",
    "\n",
    "from bs4 import BeautifulSoup\n",
    "from concurrent.futures import ThreadPoolExecutor\n",
    "from tqdm import tqdm"
   ]
  },
  {
   "cell_type": "markdown",
   "id": "aa9ee24d-c6ad-4e35-994c-86fe732aacbe",
   "metadata": {},
   "source": [
    "### Parse methods"
   ]
  },
  {
   "cell_type": "code",
   "execution_count": 2,
   "id": "4ec9090c-ad32-4284-a48d-e12ff77a67b6",
   "metadata": {},
   "outputs": [],
   "source": [
    "def parseGuitarLinks(url):\n",
    "    html = requests.get(url).text\n",
    "    soup = BeautifulSoup(html, \"html.parser\")\n",
    "\n",
    "    hrefs = [a['href'] for a in soup.find_all('a', class_='catalog-card__name')]\n",
    "    hrefs = ['https://www.muztorg.ru' + i for i in hrefs]\n",
    "\n",
    "    return hrefs"
   ]
  },
  {
   "cell_type": "code",
   "execution_count": 30,
   "id": "4e0c19c0-61b4-4432-9203-c460acc99252",
   "metadata": {},
   "outputs": [],
   "source": [
    "def parseGuitarData(url):\n",
    "    html = requests.get(url).text\n",
    "    soup = BeautifulSoup(html, \"html.parser\")\n",
    "\n",
    "    name = None\n",
    "    brand = None\n",
    "    fret_amount = None\n",
    "    string_amount = None\n",
    "    scale = None\n",
    "    body = None\n",
    "    body_material = None\n",
    "\n",
    "    price_data_1 = soup.find('div', class_='mt-product-price__default-value')\n",
    "    price_data_2 = soup.find('div', class_='mt-product-price__discounted-value')\n",
    "    if price_data_1 == None and price_data_2 == None:\n",
    "        price = None\n",
    "    elif price_data_1 == None:\n",
    "        price = price_data_2.text\n",
    "        price = int(price.replace(' ₽', '').replace(' ', '').replace('\\xa0', '')) / 1000\n",
    "    else:\n",
    "        price = price_data_1.text\n",
    "        price = int(price.replace(' ₽', '').replace(' ', '').replace('\\xa0', '')) / 1000\n",
    "\n",
    "    tmp_name = soup.find('h1', class_='title-1')\n",
    "    if tmp_name:\n",
    "        name = tmp_name.text\n",
    "        brand = name.split()[0]\n",
    "\n",
    "    characteristics = soup.find('div', class_='mt-product-info__list')\n",
    "    if characteristics:\n",
    "        divs = characteristics.find_all('div')\n",
    "        text_characteristics = [divs[i].text for i in range(len(divs))]\n",
    "\n",
    "        for i in range(len(text_characteristics)):\n",
    "            if 'Количество ладов (диапазон)' in text_characteristics[i]:\n",
    "                fret_amount = int(divs[i].find('span').text)\n",
    "                \n",
    "            if 'Количество струн' in text_characteristics[i]:\n",
    "                string_amount = int(divs[i].find('span').text)\n",
    "        \n",
    "            if 'Материал корпуса' in text_characteristics[i]:\n",
    "                body_material = divs[i].find('span').text\n",
    "        \n",
    "            if 'Форма корпуса' in text_characteristics[i]:\n",
    "                body = divs[i].find('span').text\n",
    "                \n",
    "            if 'Мензура, дюймы' in text_characteristics[i]:\n",
    "                scale = float(divs[i].find('span').text)\n",
    "\n",
    "    return name, brand, price, fret_amount, string_amount, scale, body, body_material"
   ]
  },
  {
   "cell_type": "code",
   "execution_count": 31,
   "id": "72c197aa-2fba-47cd-b7ae-9b25664bc65d",
   "metadata": {},
   "outputs": [],
   "source": [
    "def fetch_guitar_data(href):\n",
    "    return parseGuitarData(href)"
   ]
  },
  {
   "cell_type": "code",
   "execution_count": 4,
   "id": "72976401-8042-459f-bc73-fc6739f1e765",
   "metadata": {
    "collapsed": true,
    "jupyter": {
     "outputs_hidden": true,
     "source_hidden": true
    }
   },
   "outputs": [
    {
     "ename": "IndentationError",
     "evalue": "unindent does not match any outer indentation level (<string>, line 39)",
     "output_type": "error",
     "traceback": [
      "\u001b[1;36m  File \u001b[1;32m<string>:39\u001b[1;36m\u001b[0m\n\u001b[1;33m    brands = []\u001b[0m\n\u001b[1;37m               ^\u001b[0m\n\u001b[1;31mIndentationError\u001b[0m\u001b[1;31m:\u001b[0m unindent does not match any outer indentation level\n"
     ]
    }
   ],
   "source": [
    "def parseCurrGuitarData(url):\n",
    "    html = requests.get(url).text\n",
    "    soup = BeautifulSoup(html, \"html.parser\")\n",
    "\n",
    "    frets = 0\n",
    "    strings = 0\n",
    "    bodies = ''\n",
    "    scales = 0.0\n",
    "\n",
    "    # parse main div\n",
    "    guitar_data = soup.find_all('div', class_='panel-group visible-xs')\n",
    "\n",
    "    if guitar_data:\n",
    "        panel_body = guitar_data[0].find('div', id='mobile-characteristics')\n",
    "        \n",
    "        if panel_body:\n",
    "            text = panel_body.find_all('li')\n",
    "            text = [str(text[i]) for i in range(len(text))]\n",
    "            \n",
    "            # postprocessing\n",
    "            keys_to_extract = [\"Количество ладов (диапазон)\", \"Количество струн\", \"Форма корпуса\", \"Мензура, дюймы\"]\n",
    "            filtered_data = [item for item in text if any(key in item for key in keys_to_extract)]\n",
    "            pattern = r':\\s*(.+?)</li>'\n",
    "            \n",
    "            extracted_values = []\n",
    "            for item in filtered_data:\n",
    "                match = re.search(pattern, item)\n",
    "                if match:\n",
    "                    extracted_values.append(match.group(1))\n",
    "            \n",
    "            if len(extracted_values) >= 4:\n",
    "                frets = int(extracted_values[0])\n",
    "                strings = int(extracted_values[1])\n",
    "                bodies = extracted_values[2]\n",
    "                scales = float(extracted_values[3])\n",
    "\n",
    "    return frets, strings, bodies, scales\n",
    "\n",
    " brands = []\n",
    "    prices = []\n",
    "    names = []\n",
    "    links = set()\n",
    "    \n",
    "    #parse main div\n",
    "    guitar_div = soup.find_all('div', class_='thumbnail-list grid-3')\n",
    "\n",
    "    \n",
    "    #parse required data from guitar_divs\n",
    "    for div in guitar_div:\n",
    "        meta_tags_brands = div.find_all('meta', {'itemprop': 'brand'})\n",
    "        for meta_tag in meta_tags_brands:\n",
    "            brand = meta_tag.get('content')\n",
    "            brands.append(brand)\n",
    "\n",
    "    for div in guitar_div:\n",
    "        p_tags = div.find_all('p', class_='price')\n",
    "        for price_tag in p_tags:\n",
    "            price = price_tag.get_text()\n",
    "            prices.append(price)\n",
    "            \n",
    "    for div in guitar_div:\n",
    "        meta_tags = div.find_all('meta', {'itemprop': 'name'})\n",
    "        for meta_tag in meta_tags:\n",
    "            content = meta_tag.get('content')\n",
    "            words = re.findall(r'\\b[\\w-]+\\b', content)\n",
    "            name = ' '.join(words)\n",
    "            names.append(name)\n",
    "\n",
    "    for div in guitar_div:\n",
    "        a_tags_links = soup.find_all('a', href=True)\n",
    "        for link in a_tags_links:\n",
    "            href = link.get('href')\n",
    "            if '/product/' in href:\n",
    "                links.add('https://www.muztorg.ru' + href + '?view_tab=characteristics')\n",
    "            \n",
    "\n",
    "    #postprocess data (if required)\n",
    "    prices = [re.sub(r'\\D', '', prices[i]) for i in range(len(prices))]\n",
    "    for i in range(len(prices)):\n",
    "        prices[i] = int(prices[i])/1000\n",
    "\n",
    "    links = list(links)\n",
    "\n",
    "    \n",
    "    return brands, prices, names, links"
   ]
  },
  {
   "cell_type": "markdown",
   "id": "36a4800a-bed4-425d-8989-9ba0b66bd804",
   "metadata": {},
   "source": [
    "### Generate urls for parsing and parse all guitar links"
   ]
  },
  {
   "cell_type": "code",
   "execution_count": 32,
   "id": "b182b30b-271e-4569-a8f6-ef26be6147ae",
   "metadata": {
    "scrolled": true
   },
   "outputs": [],
   "source": [
    "links = [f'https://www.muztorg.ru/category/elektrogitary?all-stock=1&page={page}' for page in range(1, 80)]"
   ]
  },
  {
   "cell_type": "code",
   "execution_count": 9,
   "id": "920af0d6-462d-40aa-aeb3-e5fcbc5b58f4",
   "metadata": {},
   "outputs": [
    {
     "data": {
      "text/plain": [
       "2528"
      ]
     },
     "execution_count": 9,
     "metadata": {},
     "output_type": "execute_result"
    }
   ],
   "source": [
    "HREFS = []\n",
    "for i in range(len(links)):\n",
    "    HREFS.extend(parseGuitarLinks(links[i]))\n",
    "\n",
    "len(HREFS)"
   ]
  },
  {
   "cell_type": "markdown",
   "id": "618d67b9-ed94-474d-b1ad-e80569f266bf",
   "metadata": {},
   "source": [
    "###  Initialize global arrays for storing data"
   ]
  },
  {
   "cell_type": "code",
   "execution_count": 33,
   "id": "6bc1e524-b193-4bd1-9af6-aa09474b46e4",
   "metadata": {},
   "outputs": [],
   "source": [
    "NAMES = []\n",
    "BRANDS = []\n",
    "PRICES = []\n",
    "FRET_AMOUNTS = []\n",
    "STRING_AMOUNTS = []\n",
    "SCALES = []\n",
    "BODIES = []\n",
    "BODY_MATERIALS = []"
   ]
  },
  {
   "cell_type": "markdown",
   "id": "9b6d334a-5c38-413e-8e6e-46e754236d9d",
   "metadata": {},
   "source": [
    "### Append parsed data to required global arrays"
   ]
  },
  {
   "cell_type": "code",
   "execution_count": 34,
   "id": "77ba5ca5-6390-4859-bfeb-de2075e5b89c",
   "metadata": {},
   "outputs": [
    {
     "name": "stderr",
     "output_type": "stream",
     "text": [
      "Fetching guitar data: 100%|████████████████| 2528/2528 [14:01<00:00,  3.00it/s]\n"
     ]
    }
   ],
   "source": [
    "with ThreadPoolExecutor() as executor:\n",
    "    results = list(tqdm(executor.map(fetch_guitar_data, HREFS), total=len(HREFS), desc=\"Fetching guitar data\"))\n",
    "\n",
    "for result in results:\n",
    "    NAMES.append(result[0])\n",
    "    BRANDS.append(result[1])\n",
    "    PRICES.append(result[2])\n",
    "    FRET_AMOUNTS.append(result[3])\n",
    "    STRING_AMOUNTS.append(result[4])\n",
    "    SCALES.append(result[5])\n",
    "    BODIES.append(result[6])\n",
    "    BODY_MATERIALS.append(result[7])"
   ]
  },
  {
   "cell_type": "code",
   "execution_count": 35,
   "id": "d951972d-0eff-4bd5-9e17-5d885d849500",
   "metadata": {},
   "outputs": [
    {
     "data": {
      "text/plain": [
       "(2528, 2528, 2528, 2528, 2528, 2528, 2528, 2528)"
      ]
     },
     "execution_count": 35,
     "metadata": {},
     "output_type": "execute_result"
    }
   ],
   "source": [
    "len(NAMES), len(BRANDS), len(PRICES), len(FRET_AMOUNTS), len(STRING_AMOUNTS), len(SCALES), len(BODIES), len(BODY_MATERIALS)"
   ]
  },
  {
   "cell_type": "markdown",
   "id": "a21b560a-989c-4fd3-afad-0ee4e0dab3ae",
   "metadata": {},
   "source": [
    "### Paste data to dataset"
   ]
  },
  {
   "cell_type": "code",
   "execution_count": 46,
   "id": "0bc37d5a-a177-4628-a549-d17398a0ce69",
   "metadata": {},
   "outputs": [],
   "source": [
    "data = {\n",
    "    'name': NAMES,\n",
    "    'brand': BRANDS,\n",
    "    'price': PRICES,\n",
    "    'fret-amount': FRET_AMOUNTS,\n",
    "    'string-amount': STRING_AMOUNTS,\n",
    "    'scale': SCALES,\n",
    "    'body': BODIES,\n",
    "    'body-material': BODY_MATERIALS\n",
    "}"
   ]
  },
  {
   "cell_type": "code",
   "execution_count": 47,
   "id": "fdbe8713-d214-4b7b-b9e3-c9d6733e048d",
   "metadata": {},
   "outputs": [],
   "source": [
    "df = pd.DataFrame(data)"
   ]
  },
  {
   "cell_type": "code",
   "execution_count": 63,
   "id": "be1ffd7c-08da-4314-b6fd-c8027997a152",
   "metadata": {},
   "outputs": [
    {
     "data": {
      "text/html": [
       "<div>\n",
       "<style scoped>\n",
       "    .dataframe tbody tr th:only-of-type {\n",
       "        vertical-align: middle;\n",
       "    }\n",
       "\n",
       "    .dataframe tbody tr th {\n",
       "        vertical-align: top;\n",
       "    }\n",
       "\n",
       "    .dataframe thead th {\n",
       "        text-align: right;\n",
       "    }\n",
       "</style>\n",
       "<table border=\"1\" class=\"dataframe\">\n",
       "  <thead>\n",
       "    <tr style=\"text-align: right;\">\n",
       "      <th></th>\n",
       "      <th>name</th>\n",
       "      <th>brand</th>\n",
       "      <th>price</th>\n",
       "      <th>fret-amount</th>\n",
       "      <th>string-amount</th>\n",
       "      <th>scale</th>\n",
       "      <th>body</th>\n",
       "      <th>body-material</th>\n",
       "    </tr>\n",
       "  </thead>\n",
       "  <tbody>\n",
       "    <tr>\n",
       "      <th>0</th>\n",
       "      <td>IBANEZ GRG121DX-BKF</td>\n",
       "      <td>IBANEZ</td>\n",
       "      <td>27.60</td>\n",
       "      <td>22</td>\n",
       "      <td>6</td>\n",
       "      <td>25.5</td>\n",
       "      <td>Modern stat</td>\n",
       "      <td>тополь</td>\n",
       "    </tr>\n",
       "    <tr>\n",
       "      <th>1</th>\n",
       "      <td>ROCKDALE Stars Black Limited Edition HSS BK</td>\n",
       "      <td>ROCKDALE</td>\n",
       "      <td>13.30</td>\n",
       "      <td>24</td>\n",
       "      <td>6</td>\n",
       "      <td>24.5</td>\n",
       "      <td>Stratocaster</td>\n",
       "      <td>тополь</td>\n",
       "    </tr>\n",
       "    <tr>\n",
       "      <th>2</th>\n",
       "      <td>IBANEZ GRX70QA-TRB</td>\n",
       "      <td>IBANEZ</td>\n",
       "      <td>23.94</td>\n",
       "      <td>24</td>\n",
       "      <td>6</td>\n",
       "      <td>25.5</td>\n",
       "      <td>Superstrat</td>\n",
       "      <td>тополь</td>\n",
       "    </tr>\n",
       "    <tr>\n",
       "      <th>3</th>\n",
       "      <td>ROCKDALE Stars HSS BK</td>\n",
       "      <td>ROCKDALE</td>\n",
       "      <td>12.20</td>\n",
       "      <td>24</td>\n",
       "      <td>6</td>\n",
       "      <td>25.5</td>\n",
       "      <td>Stratocaster</td>\n",
       "      <td>тополь</td>\n",
       "    </tr>\n",
       "    <tr>\n",
       "      <th>4</th>\n",
       "      <td>IBANEZ GRG121DX-WNF</td>\n",
       "      <td>IBANEZ</td>\n",
       "      <td>27.90</td>\n",
       "      <td>22</td>\n",
       "      <td>6</td>\n",
       "      <td>25.5</td>\n",
       "      <td>Superstrat</td>\n",
       "      <td>красное дерево</td>\n",
       "    </tr>\n",
       "    <tr>\n",
       "      <th>...</th>\n",
       "      <td>...</td>\n",
       "      <td>...</td>\n",
       "      <td>...</td>\n",
       "      <td>...</td>\n",
       "      <td>...</td>\n",
       "      <td>...</td>\n",
       "      <td>...</td>\n",
       "      <td>...</td>\n",
       "    </tr>\n",
       "    <tr>\n",
       "      <th>2523</th>\n",
       "      <td>GRETSCH G2655 Streamliner C/Block Jr. DC, V-St...</td>\n",
       "      <td>GRETSCH</td>\n",
       "      <td>84.00</td>\n",
       "      <td>22</td>\n",
       "      <td>6</td>\n",
       "      <td>26.5</td>\n",
       "      <td>Superstrat</td>\n",
       "      <td>тополь</td>\n",
       "    </tr>\n",
       "    <tr>\n",
       "      <th>2524</th>\n",
       "      <td>GRETSCH G2622 Streamliner C/Block DC, V-Stopta...</td>\n",
       "      <td>GRETSCH</td>\n",
       "      <td>86.00</td>\n",
       "      <td>24</td>\n",
       "      <td>6</td>\n",
       "      <td>26.5</td>\n",
       "      <td>Modern stat</td>\n",
       "      <td>ольха</td>\n",
       "    </tr>\n",
       "    <tr>\n",
       "      <th>2525</th>\n",
       "      <td>GRETSCH G2622 Streamliner C/Block DC, V-Stopta...</td>\n",
       "      <td>GRETSCH</td>\n",
       "      <td>86.00</td>\n",
       "      <td>24</td>\n",
       "      <td>6</td>\n",
       "      <td>24.5</td>\n",
       "      <td>Stratocaster</td>\n",
       "      <td>тополь</td>\n",
       "    </tr>\n",
       "    <tr>\n",
       "      <th>2526</th>\n",
       "      <td>GRETSCH G2655 Streamliner C/Block Jr. DC, V-St...</td>\n",
       "      <td>GRETSCH</td>\n",
       "      <td>86.00</td>\n",
       "      <td>22</td>\n",
       "      <td>6</td>\n",
       "      <td>26.5</td>\n",
       "      <td>Stratocaster</td>\n",
       "      <td>красное дерево</td>\n",
       "    </tr>\n",
       "    <tr>\n",
       "      <th>2527</th>\n",
       "      <td>GRETSCH G2655 Streamliner C/Block Jr. DC, V-St...</td>\n",
       "      <td>GRETSCH</td>\n",
       "      <td>86.00</td>\n",
       "      <td>24</td>\n",
       "      <td>6</td>\n",
       "      <td>26.5</td>\n",
       "      <td>Stratocaster</td>\n",
       "      <td>клён</td>\n",
       "    </tr>\n",
       "  </tbody>\n",
       "</table>\n",
       "<p>2528 rows × 8 columns</p>\n",
       "</div>"
      ],
      "text/plain": [
       "                                                   name     brand  price  \\\n",
       "0                                   IBANEZ GRG121DX-BKF    IBANEZ  27.60   \n",
       "1           ROCKDALE Stars Black Limited Edition HSS BK  ROCKDALE  13.30   \n",
       "2                                    IBANEZ GRX70QA-TRB    IBANEZ  23.94   \n",
       "3                                 ROCKDALE Stars HSS BK  ROCKDALE  12.20   \n",
       "4                                   IBANEZ GRG121DX-WNF    IBANEZ  27.90   \n",
       "...                                                 ...       ...    ...   \n",
       "2523  GRETSCH G2655 Streamliner C/Block Jr. DC, V-St...   GRETSCH  84.00   \n",
       "2524  GRETSCH G2622 Streamliner C/Block DC, V-Stopta...   GRETSCH  86.00   \n",
       "2525  GRETSCH G2622 Streamliner C/Block DC, V-Stopta...   GRETSCH  86.00   \n",
       "2526  GRETSCH G2655 Streamliner C/Block Jr. DC, V-St...   GRETSCH  86.00   \n",
       "2527  GRETSCH G2655 Streamliner C/Block Jr. DC, V-St...   GRETSCH  86.00   \n",
       "\n",
       "      fret-amount  string-amount  scale          body   body-material  \n",
       "0              22              6   25.5   Modern stat          тополь  \n",
       "1              24              6   24.5  Stratocaster          тополь  \n",
       "2              24              6   25.5    Superstrat          тополь  \n",
       "3              24              6   25.5  Stratocaster          тополь  \n",
       "4              22              6   25.5    Superstrat  красное дерево  \n",
       "...           ...            ...    ...           ...             ...  \n",
       "2523           22              6   26.5    Superstrat          тополь  \n",
       "2524           24              6   26.5   Modern stat           ольха  \n",
       "2525           24              6   24.5  Stratocaster          тополь  \n",
       "2526           22              6   26.5  Stratocaster  красное дерево  \n",
       "2527           24              6   26.5  Stratocaster            клён  \n",
       "\n",
       "[2528 rows x 8 columns]"
      ]
     },
     "execution_count": 63,
     "metadata": {},
     "output_type": "execute_result"
    }
   ],
   "source": [
    "df"
   ]
  },
  {
   "cell_type": "code",
   "execution_count": 64,
   "id": "1f0ce306-c516-4cac-aef6-febebfaed1bd",
   "metadata": {},
   "outputs": [],
   "source": [
    "df.to_csv('guitar-data.csv', index=False, encoding='utf-8')"
   ]
  },
  {
   "cell_type": "code",
   "execution_count": null,
   "id": "cda06ec7-bd62-467a-a6bc-7df29d8e6c3d",
   "metadata": {},
   "outputs": [],
   "source": []
  }
 ],
 "metadata": {
  "kernelspec": {
   "display_name": "Python 3 (ipykernel)",
   "language": "python",
   "name": "python3"
  },
  "language_info": {
   "codemirror_mode": {
    "name": "ipython",
    "version": 3
   },
   "file_extension": ".py",
   "mimetype": "text/x-python",
   "name": "python",
   "nbconvert_exporter": "python",
   "pygments_lexer": "ipython3",
   "version": "3.12.4"
  }
 },
 "nbformat": 4,
 "nbformat_minor": 5
}
