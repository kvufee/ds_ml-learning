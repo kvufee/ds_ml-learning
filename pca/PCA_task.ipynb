{
 "cells": [
  {
   "cell_type": "code",
   "execution_count": 152,
   "id": "1c66be62-4c80-49e8-b906-79305ea97bfb",
   "metadata": {},
   "outputs": [],
   "source": [
    "import pandas as pd\n",
    "import numpy as np\n",
    "import matplotlib\n",
    "import matplotlib.pyplot as plt\n",
    "from sklearn.decomposition import PCA"
   ]
  },
  {
   "cell_type": "code",
   "execution_count": 160,
   "id": "df2c51ae-6394-4660-8ab8-76db0f6d2752",
   "metadata": {},
   "outputs": [
    {
     "data": {
      "text/html": [
       "<div>\n",
       "<style scoped>\n",
       "    .dataframe tbody tr th:only-of-type {\n",
       "        vertical-align: middle;\n",
       "    }\n",
       "\n",
       "    .dataframe tbody tr th {\n",
       "        vertical-align: top;\n",
       "    }\n",
       "\n",
       "    .dataframe thead th {\n",
       "        text-align: right;\n",
       "    }\n",
       "</style>\n",
       "<table border=\"1\" class=\"dataframe\">\n",
       "  <thead>\n",
       "    <tr style=\"text-align: right;\">\n",
       "      <th></th>\n",
       "      <th>1</th>\n",
       "      <th>2</th>\n",
       "      <th>3</th>\n",
       "      <th>4</th>\n",
       "      <th>5</th>\n",
       "      <th>6</th>\n",
       "      <th>7</th>\n",
       "      <th>8</th>\n",
       "      <th>9</th>\n",
       "      <th>10</th>\n",
       "    </tr>\n",
       "  </thead>\n",
       "  <tbody>\n",
       "    <tr>\n",
       "      <th>0</th>\n",
       "      <td>-7.740340</td>\n",
       "      <td>9.277438</td>\n",
       "      <td>-4.854174</td>\n",
       "      <td>-1.202028</td>\n",
       "      <td>-12.348254</td>\n",
       "      <td>-10.066532</td>\n",
       "      <td>14.795244</td>\n",
       "      <td>19.147509</td>\n",
       "      <td>-16.013266</td>\n",
       "      <td>-9.549785</td>\n",
       "    </tr>\n",
       "    <tr>\n",
       "      <th>1</th>\n",
       "      <td>-11.313491</td>\n",
       "      <td>-21.953282</td>\n",
       "      <td>8.975190</td>\n",
       "      <td>-23.328462</td>\n",
       "      <td>-15.637988</td>\n",
       "      <td>6.108675</td>\n",
       "      <td>-13.792329</td>\n",
       "      <td>9.819516</td>\n",
       "      <td>19.525042</td>\n",
       "      <td>-3.615621</td>\n",
       "    </tr>\n",
       "    <tr>\n",
       "      <th>2</th>\n",
       "      <td>5.473343</td>\n",
       "      <td>12.630822</td>\n",
       "      <td>-5.005415</td>\n",
       "      <td>-4.796412</td>\n",
       "      <td>-15.365238</td>\n",
       "      <td>-3.247915</td>\n",
       "      <td>-6.766479</td>\n",
       "      <td>4.724994</td>\n",
       "      <td>-20.113874</td>\n",
       "      <td>10.556540</td>\n",
       "    </tr>\n",
       "  </tbody>\n",
       "</table>\n",
       "</div>"
      ],
      "text/plain": [
       "           1          2         3          4          5          6          7  \\\n",
       "0  -7.740340   9.277438 -4.854174  -1.202028 -12.348254 -10.066532  14.795244   \n",
       "1 -11.313491 -21.953282  8.975190 -23.328462 -15.637988   6.108675 -13.792329   \n",
       "2   5.473343  12.630822 -5.005415  -4.796412 -15.365238  -3.247915  -6.766479   \n",
       "\n",
       "           8          9         10  \n",
       "0  19.147509 -16.013266  -9.549785  \n",
       "1   9.819516  19.525042  -3.615621  \n",
       "2   4.724994 -20.113874  10.556540  "
      ]
     },
     "execution_count": 160,
     "metadata": {},
     "output_type": "execute_result"
    }
   ],
   "source": [
    "data = pd.read_csv('ds_ml-learning/PCA_dataset.csv')\n",
    "data.head(3)"
   ]
  },
  {
   "cell_type": "code",
   "execution_count": 161,
   "id": "f19cfac7-1ec0-453a-a628-7a4d17fe1976",
   "metadata": {},
   "outputs": [],
   "source": [
    "X = np.array([])\n",
    "y = np.array([])\n",
    "\n",
    "X = np.append(X, data.values)\n",
    "X = np.reshape(X, (60, 10))\n",
    "\n",
    "for i in range(60):\n",
    "    y = np.append(y, i)"
   ]
  },
  {
   "cell_type": "code",
   "execution_count": 162,
   "id": "28e8129b-5647-4579-a09b-14ca65b7adaa",
   "metadata": {},
   "outputs": [],
   "source": [
    "pca = PCA(n_components=10, svd_solver='full')\n",
    "X_transformed = pca.fit_transform(X)"
   ]
  },
  {
   "cell_type": "code",
   "execution_count": 163,
   "id": "31274797-c008-4f1b-87de-c194e16d1563",
   "metadata": {
    "scrolled": true
   },
   "outputs": [
    {
     "data": {
      "text/plain": [
       "array([[ 2.29076878e+01, -1.43012393e+01, -8.60588282e+00,\n",
       "         1.26818103e+01,  1.61360306e+00,  1.23067498e-01,\n",
       "         9.22777624e-01, -5.61956635e-01,  1.04879661e+00,\n",
       "        -7.19294055e-01],\n",
       "       [-1.60689780e+01,  3.56521629e+01, -8.22307703e+00,\n",
       "         2.07503194e+00,  8.67072105e-02,  2.29277062e+00,\n",
       "        -1.14523069e+00, -3.82480176e-01, -1.21680371e+00,\n",
       "        -2.63409859e-01],\n",
       "       [ 3.59251275e+01,  5.44744293e+00,  2.60693510e-01,\n",
       "        -1.34791688e+01, -2.60477995e+00, -7.88742230e-01,\n",
       "         8.30012140e-02,  1.31634708e+00, -3.70417621e-01,\n",
       "         2.95683464e-01],\n",
       "       [ 3.39576993e+01,  6.09042439e+00, -1.48145072e+00,\n",
       "        -1.52562098e+01, -1.67587284e+00, -4.10426982e-01,\n",
       "         9.59442696e-01,  1.53840770e+00, -1.66888207e+00,\n",
       "        -1.31174394e+00],\n",
       "       [-1.52232427e+01,  3.98904415e+01, -8.47086641e+00,\n",
       "         3.92893676e+00, -1.94394141e+00, -1.64609893e+00,\n",
       "         1.70985933e+00, -5.81570974e-01, -4.76952991e-01,\n",
       "        -1.24033690e+00],\n",
       "       [-8.33966310e+00, -3.87608347e+00,  2.48419821e+01,\n",
       "         7.00143763e-01, -1.90297412e+00,  1.66028991e+00,\n",
       "        -3.32790257e+00,  5.45532899e-01,  5.04003095e-01,\n",
       "        -2.28068311e+00],\n",
       "       [-1.49104986e+01,  3.74145729e+01, -7.68753336e+00,\n",
       "         4.34941543e+00, -2.02975554e+00, -4.91362341e-02,\n",
       "         2.02209313e+00, -7.44056978e-01,  3.19893998e+00,\n",
       "         5.51013784e-01],\n",
       "       [-1.16068718e+01, -5.50019527e+00,  2.93827940e+01,\n",
       "         1.44753905e+00, -2.34035617e-01,  6.56404608e-01,\n",
       "         9.69653639e-01,  1.44613856e+00, -5.65513084e-02,\n",
       "         2.81626472e+00],\n",
       "       [-1.25653610e+01, -7.08884825e+00,  2.60676056e+01,\n",
       "         3.30308680e+00, -1.92869149e+00, -2.35406455e+00,\n",
       "         5.94336289e-01,  7.83038125e-01, -1.22060438e+00,\n",
       "         7.07343510e-01],\n",
       "       [-9.74808826e+00, -3.84952392e+00,  2.63355330e+01,\n",
       "         3.59842131e+00, -1.95106391e+00,  1.27965384e+00,\n",
       "        -7.36719618e-01, -1.32357345e+00,  1.30763942e+00,\n",
       "         8.50649448e-01],\n",
       "       [-9.34548701e+00, -4.44152189e+00,  2.58682655e+01,\n",
       "         4.83683416e+00,  2.36081875e+00,  4.13795840e+00,\n",
       "         5.13011052e-01, -3.24634505e-02, -9.02188503e-01,\n",
       "         8.91045729e-01],\n",
       "       [ 3.58834439e+01,  7.27968896e+00,  8.18246712e-01,\n",
       "        -1.37764772e+01, -1.85811848e-01, -1.78367557e+00,\n",
       "         1.64415597e+00, -6.33707449e-01,  3.17451689e-01,\n",
       "        -8.86095019e-01],\n",
       "       [-3.20616321e+01, -2.25208281e+01, -1.08942019e+01,\n",
       "        -6.21790006e+00, -1.15962923e+00,  5.22046847e-02,\n",
       "         1.08117767e+00, -3.06334351e-01,  2.63474087e+00,\n",
       "        -7.91860430e-01],\n",
       "       [-1.64954210e+01,  3.93837347e+01, -3.00005127e+00,\n",
       "         7.88575116e+00, -2.92287638e-01, -1.22781415e+00,\n",
       "        -1.40205827e+00,  1.08037491e+00, -1.26681796e+00,\n",
       "         6.64599918e-01],\n",
       "       [-1.08572758e+01, -3.87940321e+00,  2.61971362e+01,\n",
       "         2.96980979e+00, -1.45164786e+00, -1.79374550e+00,\n",
       "        -2.64253037e+00, -1.58854999e+00,  2.40481990e-01,\n",
       "         6.67972412e-01],\n",
       "       [ 2.41520782e+01, -1.38646439e+01, -1.01436974e+01,\n",
       "         1.32256564e+01, -2.49521116e+00, -1.15863719e+00,\n",
       "        -6.05518124e-01, -1.50469773e+00, -1.19896298e+00,\n",
       "         1.09141203e+00],\n",
       "       [ 3.57944973e+01,  6.47490327e+00, -6.22428295e-02,\n",
       "        -1.41229233e+01,  2.79469767e+00, -1.98162697e-01,\n",
       "         1.17188802e+00, -5.69712209e-01,  1.25414007e+00,\n",
       "         2.19859627e+00],\n",
       "       [-3.09119076e+01, -2.57594922e+01, -8.65483713e+00,\n",
       "        -8.13915525e+00,  1.86116344e-01, -9.93874114e-01,\n",
       "        -4.53744700e-01, -7.38112643e-01, -8.02213276e-01,\n",
       "         1.93964147e+00],\n",
       "       [-3.12957808e+01, -2.42950086e+01, -1.03890701e+01,\n",
       "        -4.21372614e+00,  6.32314078e-01, -1.84189269e-01,\n",
       "        -4.83422101e-01, -1.45374807e+00, -1.73370074e+00,\n",
       "        -6.79556696e-01],\n",
       "       [-1.04921731e+01, -5.04555461e+00,  2.27013663e+01,\n",
       "         1.16696631e+00,  2.95304909e-01,  4.42464986e-01,\n",
       "         8.23133029e-01, -6.58930940e-01,  1.46689606e-02,\n",
       "        -1.53353130e+00],\n",
       "       [-1.70504970e+01,  3.97997869e+01, -6.34670403e+00,\n",
       "         2.02514888e+00, -1.03432838e-01, -9.09754755e-01,\n",
       "        -6.49449401e-01,  1.05994820e-01,  7.59061348e-01,\n",
       "         1.90945725e-01],\n",
       "       [-3.23148246e+01, -2.32148532e+01, -1.27154000e+01,\n",
       "        -5.87731402e+00,  3.08410348e-01, -2.75620463e-01,\n",
       "        -7.40785251e-01,  9.40856883e-01,  1.44484295e-01,\n",
       "        -7.09377885e-01],\n",
       "       [-3.21471560e+01, -2.36691864e+01, -1.12177250e+01,\n",
       "        -6.64531206e+00, -1.45196604e+00,  1.46307371e-01,\n",
       "        -5.52140399e-01, -1.68287891e-01,  2.84376657e+00,\n",
       "        -5.72675914e-01],\n",
       "       [-7.82538011e+00, -3.77795870e+00,  2.31585726e+01,\n",
       "         8.93996550e-01,  1.80840188e+00, -1.41796361e-01,\n",
       "         1.23377507e+00,  8.74695288e-01,  1.28991677e+00,\n",
       "         1.98391230e-01],\n",
       "       [-1.48093914e+01,  3.64059637e+01, -5.51016768e+00,\n",
       "         5.22884326e+00,  1.80266451e-01,  1.48332227e+00,\n",
       "         3.65033489e+00,  7.74406205e-01, -8.87501718e-01,\n",
       "         2.78751048e-01],\n",
       "       [ 3.37883498e+01,  7.78888236e+00,  2.02357949e+00,\n",
       "        -1.35628606e+01,  1.23845512e-01, -7.42956470e-01,\n",
       "        -1.79427403e+00, -3.07285500e+00, -6.25005470e-01,\n",
       "        -3.55850257e-01],\n",
       "       [-1.80569583e+01,  3.88656503e+01, -7.92021535e+00,\n",
       "         3.61451852e+00,  2.58797060e+00,  1.11144830e+00,\n",
       "         5.55192863e-01, -9.69474887e-01, -1.70396995e+00,\n",
       "         1.11167065e-01],\n",
       "       [ 3.46148508e+01,  4.99844035e+00, -1.49834103e+00,\n",
       "        -1.39247064e+01, -1.23042889e+00, -2.08292364e+00,\n",
       "         1.15096758e+00, -2.78857556e+00,  1.18476426e-01,\n",
       "         8.07783976e-01],\n",
       "       [ 2.40803149e+01, -1.85374244e+01, -9.16549808e+00,\n",
       "         1.24426706e+01,  1.65383433e+00, -1.38609146e+00,\n",
       "        -2.12985543e+00,  3.75331229e-01,  3.57419120e-01,\n",
       "         8.45703308e-01],\n",
       "       [ 3.78969844e+01,  5.65084362e+00, -1.72974506e+00,\n",
       "        -1.44886993e+01, -6.74390581e-01,  3.80250826e+00,\n",
       "        -3.94560876e-01, -4.25601115e-01,  5.26246431e-01,\n",
       "         6.35563239e-01],\n",
       "       [-3.42232311e+01, -2.20335338e+01, -8.81425896e+00,\n",
       "        -8.58144726e+00, -2.36369895e+00,  7.29604227e-02,\n",
       "         4.96086225e-01, -2.00492006e+00, -1.15330070e-03,\n",
       "        -9.61010534e-01],\n",
       "       [ 3.00934543e+01,  5.25611849e+00, -1.22600429e+00,\n",
       "        -1.38437858e+01,  3.48366508e+00, -4.46910555e-02,\n",
       "        -1.33388123e+00,  1.14573058e+00,  7.95568126e-01,\n",
       "         7.45956186e-01],\n",
       "       [ 2.37811509e+01, -1.72384921e+01, -8.37096483e+00,\n",
       "         1.32406991e+01, -3.87646282e+00, -1.12116656e+00,\n",
       "         9.56336325e-01,  2.33146325e-01, -3.03316277e-01,\n",
       "         2.75051266e-01],\n",
       "       [ 3.39413853e+01,  2.63390951e+00, -1.09032207e+00,\n",
       "        -1.57176682e+01,  9.98391470e-01, -2.83966217e-01,\n",
       "         5.64827276e-01,  2.36716316e+00, -4.94646121e-02,\n",
       "        -5.90148943e-01],\n",
       "       [ 3.36125892e+01,  4.46608288e+00,  6.30263350e-02,\n",
       "        -1.47700101e+01,  1.80728763e-01,  3.04559050e+00,\n",
       "        -1.47342141e+00, -1.39625900e+00, -2.64387359e-01,\n",
       "        -1.09667588e+00],\n",
       "       [-1.15993699e+01, -2.95775447e+00,  2.67910523e+01,\n",
       "         4.00184030e+00, -4.40781737e-01,  1.53146906e+00,\n",
       "         2.45937837e+00,  3.37276891e-01, -8.14789743e-01,\n",
       "        -1.27198394e+00],\n",
       "       [-1.12887535e+01, -6.46912275e+00,  2.63641928e+01,\n",
       "         1.79537333e+00,  1.32219028e+00, -9.45186227e-01,\n",
       "        -6.23641227e-01, -9.48779589e-01,  1.98066461e-01,\n",
       "        -1.40423366e+00],\n",
       "       [-3.02971465e+01, -2.21765952e+01, -1.10460893e+01,\n",
       "        -6.40991086e+00,  3.34733352e+00,  1.97383537e+00,\n",
       "         9.39791860e-01, -1.77937848e+00, -4.51186095e-01,\n",
       "        -2.19394234e-01],\n",
       "       [ 2.50470588e+01, -1.72041339e+01, -9.63185996e+00,\n",
       "         1.71962571e+01, -1.88392438e+00,  2.06584221e+00,\n",
       "         5.97612501e-01, -4.76536191e-01, -7.93338742e-01,\n",
       "         1.10563532e+00],\n",
       "       [ 3.19462019e+01,  5.27405377e+00,  4.79754288e-01,\n",
       "        -1.56962591e+01, -3.96457191e-01,  1.22145156e+00,\n",
       "        -2.90042525e-01,  2.07762562e+00,  6.85870697e-01,\n",
       "        -6.49877015e-01],\n",
       "       [-3.44576791e+01, -2.38970518e+01, -1.18681974e+01,\n",
       "        -4.91545943e+00,  4.22632879e+00, -1.62008097e+00,\n",
       "         2.05689264e+00,  1.39658229e+00, -1.72553142e+00,\n",
       "        -8.24578038e-01],\n",
       "       [-3.13783155e+01, -2.13729535e+01, -1.23404704e+01,\n",
       "        -5.32382529e+00, -2.12815457e+00,  8.05955260e-01,\n",
       "        -1.30317265e+00,  3.33227941e+00, -1.18419426e+00,\n",
       "         1.14310914e-01],\n",
       "       [ 2.73273152e+01, -1.59364747e+01, -5.92078860e+00,\n",
       "         1.60130455e+01, -1.01581861e-01, -3.51683617e-01,\n",
       "        -1.30474342e+00,  7.68624456e-01, -1.40254948e+00,\n",
       "        -1.99282933e+00],\n",
       "       [-3.35781341e+01, -2.39207270e+01, -1.03610123e+01,\n",
       "        -7.47605012e+00,  1.34281593e+00, -3.27358612e-01,\n",
       "        -1.71259229e+00,  9.56019485e-01,  1.63535514e+00,\n",
       "        -1.31556018e-01],\n",
       "       [ 2.51279486e+01, -1.59104892e+01, -6.22720212e+00,\n",
       "         1.09760763e+01, -1.40422753e-02,  5.51498645e-01,\n",
       "         2.42804665e+00,  9.06363429e-01,  1.56322338e-01,\n",
       "        -5.80719133e-01],\n",
       "       [ 3.32029199e+01,  7.78564963e+00, -6.18471157e-01,\n",
       "        -1.32353074e+01, -2.34309010e-01, -1.54567151e+00,\n",
       "        -5.45908454e-01,  7.74446454e-01, -1.00288848e+00,\n",
       "         6.12576226e-01],\n",
       "       [ 2.47898092e+01, -1.48073560e+01, -5.83757162e+00,\n",
       "         1.81265084e+01, -2.94248829e-01, -1.74893788e-01,\n",
       "         1.02719389e+00, -2.50481549e-01,  2.36079095e+00,\n",
       "         1.14431652e+00],\n",
       "       [ 2.55586640e+01, -1.52403772e+01, -7.53551745e+00,\n",
       "         1.53671052e+01,  8.69048060e-01,  1.07473516e+00,\n",
       "        -2.19123849e+00, -1.55133619e+00, -1.15803054e+00,\n",
       "        -2.86615891e-01],\n",
       "       [-1.52882668e+01,  3.93312075e+01, -8.14468159e+00,\n",
       "         7.13954620e+00, -2.03854759e+00,  3.65267794e+00,\n",
       "         3.35323568e-01,  6.57830716e-01,  4.66867735e-01,\n",
       "        -2.17021859e-01],\n",
       "       [-3.37368718e+01, -2.31618767e+01, -1.19832122e+01,\n",
       "        -8.80996355e+00, -2.74032194e+00,  1.34309036e+00,\n",
       "        -8.71571155e-01,  1.87300902e+00,  5.55754958e-02,\n",
       "         1.70585275e+00],\n",
       "       [ 2.31308972e+01, -1.52930495e+01, -5.06254769e+00,\n",
       "         1.80115216e+01,  2.89523031e+00, -1.32606812e+00,\n",
       "        -1.38416941e+00,  8.78505204e-01,  1.30407717e+00,\n",
       "         1.13149643e-01],\n",
       "       [-1.81414949e+01,  3.76504215e+01, -7.57402049e+00,\n",
       "         3.47496826e+00,  8.24271464e-01, -1.97466519e+00,\n",
       "        -6.61752641e-01, -3.83902992e-01, -1.84122565e+00,\n",
       "         1.26075759e+00],\n",
       "       [-1.66045205e+01,  3.70863027e+01, -6.36580416e+00,\n",
       "         3.81583667e+00,  6.33029505e-01, -1.79842876e+00,\n",
       "        -1.12143945e+00,  7.10944614e-01,  1.78896728e+00,\n",
       "        -9.93994145e-01],\n",
       "       [ 2.46300367e+01, -1.42581990e+01, -7.36863354e+00,\n",
       "         1.28493427e+01, -5.30742079e-03, -1.03309159e+00,\n",
       "         1.80670670e+00, -3.26147031e-01, -2.68582778e-01,\n",
       "        -2.29335266e+00],\n",
       "       [-1.54183146e+01,  3.88415957e+01, -5.61895925e+00,\n",
       "         3.37004674e+00,  1.97653141e+00, -1.67545385e+00,\n",
       "        -1.00162597e+00, -9.39100194e-02,  2.32281417e+00,\n",
       "        -3.77888362e-01],\n",
       "       [-1.62075635e+01,  3.77081528e+01, -4.25350154e+00,\n",
       "         4.11133816e+00,  2.09525067e-01,  4.14045458e-01,\n",
       "        -2.31084036e+00, -1.69495656e-02, -1.15724692e+00,\n",
       "         1.68566988e-01],\n",
       "       [-1.17539237e+01, -6.80134574e+00,  2.71061798e+01,\n",
       "         7.65866672e-02, -1.26344915e-01, -4.01171040e+00,\n",
       "         5.02074279e-01,  1.41278986e+00, -7.96355131e-01,\n",
       "         1.07422169e-01],\n",
       "       [-3.21679041e+01, -2.37520959e+01, -1.37381984e+01,\n",
       "        -8.80644831e+00, -2.00301736e-01, -4.51606917e-01,\n",
       "         1.39850678e+00, -2.27845649e+00, -1.24712020e+00,\n",
       "         1.16370553e+00],\n",
       "       [ 2.52341971e+01, -1.53788122e+01, -8.57945706e+00,\n",
       "         1.54961944e+01,  1.40727258e+00,  1.58058396e+00,\n",
       "        -1.97311337e-01,  1.49427639e+00,  7.25980272e-02,\n",
       "         9.98875372e-01],\n",
       "       [-8.15658412e+00, -5.74422741e+00,  2.48344727e+01,\n",
       "         1.85372081e+00,  1.81175280e+00,  2.91297297e-01,\n",
       "         7.31966713e-01, -1.09199095e+00,  1.88826409e-01,\n",
       "        -2.24098087e-02]])"
      ]
     },
     "execution_count": 163,
     "metadata": {},
     "output_type": "execute_result"
    }
   ],
   "source": [
    "X_transformed"
   ]
  },
  {
   "cell_type": "code",
   "execution_count": 164,
   "id": "dafdb033-7fa1-4a7b-b643-16f644984ca3",
   "metadata": {
    "scrolled": true
   },
   "outputs": [
    {
     "name": "stdout",
     "output_type": "stream",
     "text": [
      "(10, 10)\n"
     ]
    },
    {
     "data": {
      "text/plain": [
       "array([[ 3.06639803e-01,  5.41140118e-01,  1.12996199e-02,\n",
       "         1.16171841e-02, -3.99599172e-01,  4.99286596e-02,\n",
       "         7.14495983e-02, -1.01061548e-02, -6.29483911e-01,\n",
       "         2.21917146e-01],\n",
       "       [ 9.26997957e-02, -1.99500517e-01,  3.16606649e-01,\n",
       "        -4.49815685e-01, -5.14746355e-01,  3.00709862e-01,\n",
       "        -4.18732377e-01, -1.48297005e-01,  2.44077054e-01,\n",
       "         1.91676095e-01],\n",
       "       [ 1.70417959e-01, -7.78149289e-03, -3.39451185e-01,\n",
       "        -1.62291387e-01, -9.02998493e-02, -4.22673364e-01,\n",
       "         2.06920620e-01, -7.35244068e-01,  1.82837007e-01,\n",
       "         1.60297776e-01],\n",
       "       [-1.82118123e-01,  1.97395024e-02,  5.01207235e-03,\n",
       "        -2.69263499e-01, -5.07143860e-01, -1.11037983e-01,\n",
       "         5.25321568e-01,  1.93835548e-01,  9.96271809e-02,\n",
       "        -5.48571341e-01],\n",
       "       [-2.14016592e-01, -6.66841629e-03,  5.28972274e-01,\n",
       "         3.35133528e-01, -5.45664785e-02,  1.84734996e-01,\n",
       "         5.44052463e-01, -1.83868240e-01,  1.64249610e-01,\n",
       "         4.10052701e-01],\n",
       "       [ 2.90246034e-01, -2.18266530e-01, -1.48936535e-01,\n",
       "        -5.30947917e-01,  2.54041930e-01,  6.52863228e-02,\n",
       "         4.03944026e-01,  3.87174688e-01, -2.49701180e-02,\n",
       "         4.26064611e-01],\n",
       "       [-7.39614061e-01,  1.03547760e-01, -2.28813680e-01,\n",
       "        -1.25522776e-01, -1.72543408e-01, -2.98057583e-01,\n",
       "        -1.54090711e-01,  1.91095769e-01, -5.79247840e-02,\n",
       "         4.38076322e-01],\n",
       "       [ 2.13972025e-01,  3.69682935e-01, -4.02989850e-01,\n",
       "         2.91900865e-01, -2.14097732e-01,  1.95148618e-01,\n",
       "        -3.54483327e-03,  2.69928372e-01,  6.22833009e-01,\n",
       "         1.58832916e-01],\n",
       "       [ 3.24600936e-01, -3.99505285e-01,  1.81813972e-01,\n",
       "         3.43872036e-01, -2.99194035e-01, -6.08825221e-01,\n",
       "        -8.70298588e-02,  3.11655341e-01, -5.62569197e-04,\n",
       "         1.37246772e-01],\n",
       "       [-8.33358978e-02, -5.58784294e-01, -4.84328115e-01,\n",
       "         2.91992008e-01, -2.78148871e-01,  4.24405140e-01,\n",
       "         1.01413466e-01, -9.76220578e-02, -2.86257673e-01,\n",
       "         4.16827983e-02]])"
      ]
     },
     "execution_count": 164,
     "metadata": {},
     "output_type": "execute_result"
    }
   ],
   "source": [
    "print(pca.components_.shape)\n",
    "pca.components_"
   ]
  },
  {
   "cell_type": "markdown",
   "id": "281087be-7069-43c6-8eff-eb85e2aa9c24",
   "metadata": {},
   "source": [
    "## Data centering"
   ]
  },
  {
   "cell_type": "code",
   "execution_count": 165,
   "id": "719340f3-c070-4aee-9b12-0741e7b57bea",
   "metadata": {},
   "outputs": [
    {
     "data": {
      "text/plain": [
       "array([ 22.90768784, -14.30123929,  -8.60588282,  12.68181034,\n",
       "         1.61360306,   0.1230675 ,   0.92277762,  -0.56195664,\n",
       "         1.04879661,  -0.71929406])"
      ]
     },
     "execution_count": 165,
     "metadata": {},
     "output_type": "execute_result"
    }
   ],
   "source": [
    "np.dot(X-X.mean(axis=0), pca.components_.T)[0]"
   ]
  },
  {
   "cell_type": "markdown",
   "id": "76afb439-9128-478d-b6a3-f0aa32698033",
   "metadata": {},
   "source": [
    "## Print first two PCAs"
   ]
  },
  {
   "cell_type": "code",
   "execution_count": 166,
   "id": "e0c848bb-5e96-4e99-bec7-0121bd72fd27",
   "metadata": {},
   "outputs": [
    {
     "data": {
      "text/plain": [
       "<matplotlib.collections.PathCollection at 0x7f998195b110>"
      ]
     },
     "execution_count": 166,
     "metadata": {},
     "output_type": "execute_result"
    },
    {
     "data": {
      "image/png": "[encoded data removed]",
      "text/plain": [
       "<Figure size 640x480 with 1 Axes>"
      ]
     },
     "metadata": {},
     "output_type": "display_data"
    }
   ],
   "source": [
    "plt.scatter(X_transformed[:101, 0], X_transformed[:101, 1], c=y[:101], edgecolor='none', s=40,cmap='winter')"
   ]
  },
  {
   "cell_type": "markdown",
   "id": "d106a9e2-21a7-45ae-a68d-7bc89442cf97",
   "metadata": {},
   "source": [
    "## Explained dispersion fraction"
   ]
  },
  {
   "cell_type": "code",
   "execution_count": 167,
   "id": "4fb406cf-b816-41e8-9c09-ef57a63b5b86",
   "metadata": {},
   "outputs": [
    {
     "data": {
      "text/plain": [
       "array([0.459, 0.79 , 0.92 , 0.992, 0.994, 0.996, 0.997, 0.998, 0.999,\n",
       "       1.   ])"
      ]
     },
     "execution_count": 167,
     "metadata": {},
     "output_type": "execute_result"
    }
   ],
   "source": [
    "explained_variance = np.round(np.cumsum(pca.explained_variance_ratio_),3)\n",
    "explained_variance"
   ]
  },
  {
   "cell_type": "code",
   "execution_count": 168,
   "id": "6c345229-7550-44d9-8d7b-18c406319904",
   "metadata": {},
   "outputs": [
    {
     "data": {
      "text/plain": [
       "[<matplotlib.lines.Line2D at 0x7f99879cfd10>]"
      ]
     },
     "execution_count": 168,
     "metadata": {},
     "output_type": "execute_result"
    },
    {
     "data": {
      "image/png": "[encoded data removed]",
      "text/plain": [
       "<Figure size 640x480 with 1 Axes>"
      ]
     },
     "metadata": {},
     "output_type": "display_data"
    }
   ],
   "source": [
    "plt.plot(np.arange(10), explained_variance, ls = '-')"
   ]
  },
  {
   "cell_type": "code",
   "execution_count": null,
   "id": "2fd83e59-a102-4af2-a277-19cfe662cadb",
   "metadata": {},
   "outputs": [],
   "source": []
  }
 ],
 "metadata": {
  "kernelspec": {
   "display_name": "Python 3 (ipykernel)",
   "language": "python",
   "name": "python3"
  },
  "language_info": {
   "codemirror_mode": {
    "name": "ipython",
    "version": 3
   },
   "file_extension": ".py",
   "mimetype": "text/x-python",
   "name": "python",
   "nbconvert_exporter": "python",
   "pygments_lexer": "ipython3",
   "version": "3.12.2"
  }
 },
 "nbformat": 4,
 "nbformat_minor": 5
}
