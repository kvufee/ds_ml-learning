{
 "cells": [
  {
   "cell_type": "markdown",
   "id": "1c5b10c5-9348-4e19-82f8-9b2f950ba72d",
   "metadata": {},
   "source": [
    "### Imports"
   ]
  },
  {
   "cell_type": "code",
   "execution_count": 104,
   "id": "a8d431a8-11d3-4daf-b929-150ff486fc27",
   "metadata": {},
   "outputs": [],
   "source": [
    "from typing import List, Tuple\n",
    "\n",
    "import numpy as np\n",
    "import pandas as pd\n",
    "from sklearn.datasets import make_classification\n",
    "from sklearn.model_selection import train_test_split\n",
    "from sklearn.tree import DecisionTreeClassifier\n",
    "import matplotlib.pyplot as plt"
   ]
  },
  {
   "cell_type": "markdown",
   "id": "5092897c-7c0d-41a0-90a2-fb70e26ceb00",
   "metadata": {},
   "source": [
    "### Make dataset"
   ]
  },
  {
   "cell_type": "code",
   "execution_count": 105,
   "id": "ec028e18-9315-45db-8be8-21763dddd40a",
   "metadata": {},
   "outputs": [
    {
     "data": {
      "text/plain": [
       "<matplotlib.collections.PathCollection at 0x2562ab71cd0>"
      ]
     },
     "execution_count": 105,
     "metadata": {},
     "output_type": "execute_result"
    },
    {
     "data": {
      "image/png": "[encoded data removed]",
      "text/plain": [
       "<Figure size 640x480 with 1 Axes>"
      ]
     },
     "metadata": {},
     "output_type": "display_data"
    }
   ],
   "source": [
    "X, y = make_classification(n_samples=250, n_features=2, n_redundant=0, n_informative=2)\n",
    "X_train, X_test, y_train, y_test = train_test_split(X, y)\n",
    "plt.scatter(X[:, 0], X[:, 1], marker='v')"
   ]
  },
  {
   "cell_type": "markdown",
   "id": "d9d4bb9a-a101-4154-b064-7823febcab9c",
   "metadata": {},
   "source": [
    "### Implement required classes"
   ]
  },
  {
   "cell_type": "code",
   "execution_count": 110,
   "id": "6c4e90ee-34c3-4e47-943b-30f956e15626",
   "metadata": {},
   "outputs": [],
   "source": [
    "    class Node():\n",
    "        def __init__(self, feature=None, threshold=None, left=None, right=None, value=None):\n",
    "            self.feature = feature\n",
    "            self.threshold = threshold\n",
    "            self.left = left\n",
    "            self.right = right\n",
    "            self.value = value"
   ]
  },
  {
   "cell_type": "code",
   "execution_count": 111,
   "id": "8a3313ce-1954-4a58-96e4-7264d2c05c9b",
   "metadata": {},
   "outputs": [],
   "source": [
    "class DecisionTree():\n",
    "        \n",
    "    def __init__(self, min_samples=2, max_depth=10):\n",
    "        self.root = None\n",
    "        self.min_samples = min_samples\n",
    "        self.max_depth = max_depth\n",
    "\n",
    "    def calcEntropy(self, y:List) -> float:\n",
    "        proba = np.bincount(y) / len(y)\n",
    "        return -np.sum([p * np.log2(p) for p in proba if p > 0])\n",
    "\n",
    "\n",
    "    def infoGain(self, X:List[List], y:List, threshold: float) -> float:\n",
    "        n = len(y)\n",
    "        left_data, right_data = self.splitData(X, threshold)\n",
    "        n_l, n_r = len(left_data), len(right_data)\n",
    "\n",
    "        parent_loss = self.calcEntropy(y)\n",
    "        child_loss = (n_l / n) * self.calcEntropy(y[left_data])  + (n_r / n) * self.calcEntropy(y[right_data])\n",
    "        return parent_loss - child_loss\n",
    "\n",
    "    \n",
    "    def splitData(self, X: List[List], threshold: int) -> Tuple:\n",
    "        left_data, right_data = np.argwhere(X <= threshold).flatten(), np.argwhere(X > threshold).flatten()\n",
    "        return left_data, right_data\n",
    "\n",
    "    \n",
    "    def buildTree(self, X:List[List], y:List, depth=0):\n",
    "        self.n_features, self.n_samples = len(X[0]), len(X)\n",
    "        self.n_classes = len(np.unique(y))\n",
    "\n",
    "        if depth >= self.max_depth or self.n_classes <= 1 or self.n_samples < self.min_samples:\n",
    "            return Node(value=max(np.bincount(y)))\n",
    "\n",
    "        rand_feature = np.random.choice(self.n_features, self.n_features, replace=False)\n",
    "    \n",
    "        _info_gain, split_idx, split_threshold = -1, None, None\n",
    "    \n",
    "        for _feat in rand_feature:\n",
    "            X_feature = X[:, _feat]\n",
    "            thresholds = np.unique(X_feature)\n",
    "            for threshold in thresholds:\n",
    "                curr_gain = self.infoGain(X_feature, y, threshold)\n",
    "                if curr_gain > _info_gain:\n",
    "                    _info_gain = curr_gain\n",
    "                    split_idx = _feat\n",
    "                    split_threshold = threshold\n",
    "    \n",
    "        left_idxs, right_idxs = self.splitData(X[:, split_idx], split_threshold)\n",
    "        left = self.buildTree(X[left_idxs, :], y[left_idxs], depth + 1)\n",
    "        right = self.buildTree(X[right_idxs, :], y[right_idxs], depth + 1)\n",
    "        \n",
    "        return Node(split_idx, split_threshold, left, right)\n",
    "\n",
    "    def traverseTree(self, X: List[List], Node):\n",
    "        if Node.value is not None:\n",
    "            return Node.value\n",
    "            \n",
    "        if X[Node.feature] <= Node.threshold:\n",
    "            return self.traverseTree(X, Node.left)\n",
    "            \n",
    "        return self.traverseTree(X, Node.right)\n",
    "\n",
    "    def fit(self, X:List[List], y:List):\n",
    "        self.root = self.buildTree(X, y)\n",
    "    \n",
    "    def predict(self, X:List[List]):\n",
    "        preds = [self.traverseTree(x, self.root) for x in X]\n",
    "        return np.array(preds)\n"
   ]
  },
  {
   "cell_type": "markdown",
   "id": "48fa3e60-02a8-4771-ad74-b2fddaa11ddb",
   "metadata": {},
   "source": [
    "### Compare to imported sklearn function"
   ]
  },
  {
   "cell_type": "code",
   "execution_count": 114,
   "id": "308d6539-8939-4f7d-9147-9db8b7f523d5",
   "metadata": {},
   "outputs": [
    {
     "name": "stdout",
     "output_type": "stream",
     "text": [
      "[0 0 0 1 1 1 0 0 1 1 0 0 0 1 0 1 1 0 0 0 1 0 0 1 1 1 0 0 1 0 0 1 1 1 0 0 0\n",
      " 1 1 1 0 1 0 1 0 0 1 0 1 1 1 1 0 0 0 0 1 1 1 1 0 0 0]\n"
     ]
    }
   ],
   "source": [
    "imported_dt = DecisionTreeClassifier(criterion='entropy')\n",
    "imported_dt.fit(X_train, y_train)\n",
    "print(imported_dt.predict(X_test))"
   ]
  },
  {
   "cell_type": "code",
   "execution_count": 115,
   "id": "a9a8422d-db73-45f9-a09a-710513dbbd6f",
   "metadata": {},
   "outputs": [
    {
     "name": "stdout",
     "output_type": "stream",
     "text": [
      "[90 90 90 83 83 90 90 90 83 83 90 90 90 83 90 83 83 90 90 90 83 90 90 83\n",
      " 83 83 90 90 83 90 90 83 83 83 90 90 90 83 83 90 90 83 90 83 90 90 83 90\n",
      " 83 83 83 83 90 90 90 90 83 83 83 83 90 90 90]\n"
     ]
    }
   ],
   "source": [
    "my_dt = DecisionTree(max_depth=1)\n",
    "my_dt.fit(X_train, y_train)\n",
    "print(my_dt.predict(X_test))"
   ]
  },
  {
   "cell_type": "markdown",
   "id": "f3511be7-1657-4f0c-8884-e775c2109c90",
   "metadata": {},
   "source": [
    "As you can see it classifies data correctly but for some reason each iteration of generating numbers it changes its values. I have no clue why did it happen.\n",
    "\n",
    "In this case 90 == '0' and 83 == '1'."
   ]
  },
  {
   "cell_type": "code",
   "execution_count": null,
   "id": "11a35299-856c-44d2-9960-587271cf85c3",
   "metadata": {},
   "outputs": [],
   "source": []
  }
 ],
 "metadata": {
  "kernelspec": {
   "display_name": "Python 3 (ipykernel)",
   "language": "python",
   "name": "python3"
  },
  "language_info": {
   "codemirror_mode": {
    "name": "ipython",
    "version": 3
   },
   "file_extension": ".py",
   "mimetype": "text/x-python",
   "name": "python",
   "nbconvert_exporter": "python",
   "pygments_lexer": "ipython3",
   "version": "3.12.4"
  }
 },
 "nbformat": 4,
 "nbformat_minor": 5
}
