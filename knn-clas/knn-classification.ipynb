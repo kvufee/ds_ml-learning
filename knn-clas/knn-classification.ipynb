{
 "cells": [
  {
   "cell_type": "code",
   "execution_count": 61,
   "id": "405fe15c",
   "metadata": {},
   "outputs": [],
   "source": [
    "import numpy as np\n",
    "from typing import List\n",
    "from collections import Counter\n",
    "\n",
    "from sklearn.model_selection import train_test_split\n",
    "from sklearn.datasets import make_classification\n",
    "from sklearn.neighbors import KNeighborsClassifier"
   ]
  },
  {
   "cell_type": "code",
   "execution_count": 62,
   "id": "4c3bbb52",
   "metadata": {},
   "outputs": [],
   "source": [
    "X, y = make_classification()\n",
    "\n",
    "X_train, X_test, y_train, y_test = train_test_split(X, y)"
   ]
  },
  {
   "cell_type": "code",
   "execution_count": 64,
   "id": "4fa4dfec",
   "metadata": {},
   "outputs": [],
   "source": [
    "class KNNClassifier:\n",
    "    def __init__(self, k_nb: int) -> None:\n",
    "        self.k_nb = k_nb\n",
    "\n",
    "    def fit(self, X:List[float], y:List[float]) -> None:\n",
    "        self.X = X\n",
    "        self.y = y\n",
    "\n",
    "    def predict(self, data:List[float]) -> List[int]:\n",
    "        predict_data = np.array([])\n",
    "        neighbors = np.array([])\n",
    "        \n",
    "        for item in data:\n",
    "            k_distance = np.linalg.norm(self.X - item, axis=1)\n",
    "            k_indices = np.argsort(k_distance)[:self.k_nb]\n",
    "            \n",
    "            neighbors = self.y[k_indices]\n",
    "\n",
    "            values = Counter(neighbors)\n",
    "            amount = dict(values)\n",
    "    \n",
    "            predict_data = np.append(predict_data, int(sorted(amount.items(), key=lambda x: x[1], reverse=True)[0][0]))\n",
    "        \n",
    "        return predict_data\n"
   ]
  },
  {
   "cell_type": "code",
   "execution_count": 42,
   "id": "e68234a3",
   "metadata": {},
   "outputs": [
    {
     "data": {
      "text/plain": [
       "array([0, 1, 1, 0, 0, 1, 0, 0, 0, 0, 1, 1, 1, 1, 0, 0, 1, 1, 1, 1, 0, 1,\n",
       "       1, 0, 1])"
      ]
     },
     "execution_count": 42,
     "metadata": {},
     "output_type": "execute_result"
    }
   ],
   "source": [
    "bobik = KNeighborsClassifier()\n",
    "bobik.fit(X_train, y_train)\n",
    "bobik.predict(X_test)"
   ]
  },
  {
   "cell_type": "code",
   "execution_count": 65,
   "id": "75dcab12",
   "metadata": {},
   "outputs": [
    {
     "data": {
      "text/plain": [
       "array([1., 1., 0., 0., 0., 1., 0., 0., 1., 0., 0., 1., 1., 1., 0., 0., 0.,\n",
       "       0., 1., 0., 0., 1., 0., 0., 1.])"
      ]
     },
     "execution_count": 65,
     "metadata": {},
     "output_type": "execute_result"
    }
   ],
   "source": [
    "bebra = KNNClassifier(k_nb = 5)\n",
    "bebra.fit(X_train, y_train)\n",
    "bebra.predict(X_test)"
   ]
  },
  {
   "cell_type": "code",
   "execution_count": 57,
   "id": "5c3eba06",
   "metadata": {},
   "outputs": [
    {
     "data": {
      "text/plain": [
       "{True}"
      ]
     },
     "execution_count": 57,
     "metadata": {},
     "output_type": "execute_result"
    }
   ],
   "source": [
    "bobik.predict(X_test) == bebra.predict(X_test)"
   ]
  },
  {
   "cell_type": "code",
   "execution_count": null,
   "id": "df679ca2",
   "metadata": {},
   "outputs": [],
   "source": []
  }
 ],
 "metadata": {
  "kernelspec": {
   "display_name": "Python 3 (ipykernel)",
   "language": "python",
   "name": "python3"
  },
  "language_info": {
   "codemirror_mode": {
    "name": "ipython",
    "version": 3
   },
   "file_extension": ".py",
   "mimetype": "text/x-python",
   "name": "python",
   "nbconvert_exporter": "python",
   "pygments_lexer": "ipython3",
   "version": "3.9.15"
  },
  "vscode": {
   "interpreter": {
    "hash": "7b4699fceb85dedec2c9af4cf05bc853d95a5fed91fdbd8390f90575beab6019"
   }
  }
 },
 "nbformat": 4,
 "nbformat_minor": 5
}
