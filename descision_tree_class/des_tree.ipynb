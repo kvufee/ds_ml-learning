{
 "cells": [
  {
   "cell_type": "code",
   "execution_count": null,
   "id": "a8d431a8-11d3-4daf-b929-150ff486fc27",
   "metadata": {},
   "outputs": [],
   "source": []
  },
  {
   "cell_type": "code",
   "execution_count": null,
   "id": "ec028e18-9315-45db-8be8-21763dddd40a",
   "metadata": {},
   "outputs": [],
   "source": [
    "def descisionTree():\n",
    "    def __init__(self, max_depth, min_samples_leaf, min_information_gain) -> None:"
   ]
  }
 ],
 "metadata": {
  "kernelspec": {
   "display_name": "Python 3 (ipykernel)",
   "language": "python",
   "name": "python3"
  },
  "language_info": {
   "codemirror_mode": {
    "name": "ipython",
    "version": 3
   },
   "file_extension": ".py",
   "mimetype": "text/x-python",
   "name": "python",
   "nbconvert_exporter": "python",
   "pygments_lexer": "ipython3",
   "version": "3.12.4"
  }
 },
 "nbformat": 4,
 "nbformat_minor": 5
}
