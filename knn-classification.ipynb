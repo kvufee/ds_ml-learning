{
 "cells": [
  {
   "cell_type": "code",
   "execution_count": 1,
   "id": "405fe15c",
   "metadata": {},
   "outputs": [],
   "source": [
    "from typing import List\n",
    "import pandas as pd\n",
    "import numpy as np\n",
    "\n",
    "from sklearn.model_selection import train_test_split\n",
    "from sklearn.datasets import make_classification\n",
    "from sklearn.neighbors import KNeighborsClassifier"
   ]
  },
  {
   "cell_type": "code",
   "execution_count": 2,
   "id": "4c3bbb52",
   "metadata": {},
   "outputs": [],
   "source": [
    "X, y = make_regression(n_samples=228,\n",
    "                       n_features=1,\n",
    "                       noise=20,\n",
    "                       random_state=True)\n",
    "\n",
    "X_train, X_test, y_train, y_test = train_test_split(X, y)"
   ]
  },
  {
   "cell_type": "code",
   "execution_count": null,
   "id": "4fa4dfec",
   "metadata": {},
   "outputs": [],
   "source": []
  }
 ],
 "metadata": {
  "kernelspec": {
   "display_name": "Python 3.9.15 ('myenv')",
   "language": "python",
   "name": "python3"
  },
  "language_info": {
   "codemirror_mode": {
    "name": "ipython",
    "version": 3
   },
   "file_extension": ".py",
   "mimetype": "text/x-python",
   "name": "python",
   "nbconvert_exporter": "python",
   "pygments_lexer": "ipython3",
   "version": "3.9.15"
  },
  "vscode": {
   "interpreter": {
    "hash": "7b4699fceb85dedec2c9af4cf05bc853d95a5fed91fdbd8390f90575beab6019"
   }
  }
 },
 "nbformat": 4,
 "nbformat_minor": 5
}
