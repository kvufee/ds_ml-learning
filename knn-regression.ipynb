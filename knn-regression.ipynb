{
 "cells": [
  {
   "cell_type": "code",
   "execution_count": 50,
   "id": "0afad4e2",
   "metadata": {},
   "outputs": [],
   "source": [
    "from typing import List\n",
    "import pandas as pd\n",
    "import numpy as np\n",
    "import matplotlib.pyplot as plt\n",
    "\n",
    "from sklearn.model_selection import train_test_split\n",
    "from sklearn.datasets import make_regression\n",
    "from sklearn.neighbors import KNeighborsRegressor"
   ]
  },
  {
   "cell_type": "code",
   "execution_count": 169,
   "id": "a45cf260",
   "metadata": {},
   "outputs": [],
   "source": [
    "X, y = make_regression(n_samples=228,\n",
    "                       n_features=1,\n",
    "                       noise=20,\n",
    "                       random_state=True)\n",
    "\n",
    "X_train, X_test, y_train, y_test = train_test_split(X, y)"
   ]
  },
  {
   "cell_type": "code",
   "execution_count": 192,
   "id": "5702599e",
   "metadata": {},
   "outputs": [],
   "source": [
    "class KNNRegressor:\n",
    "    def __init__(self, k_nb: int) -> None:\n",
    "        self.k_nb = k_nb\n",
    "        \n",
    "    def fit(self, X:List[float], y:List[float]) -> None:\n",
    "        self.X = X\n",
    "        self.y = y\n",
    "        \n",
    "    def predict(self, data:List[float]) -> List[float]:\n",
    "        predict_data = np.array([])\n",
    "        \n",
    "        for item in data:\n",
    "            k_distance = np.linalg.norm(self.X - item, axis=1)\n",
    "            k_indices = np.argsort(k_distance)[:self.k_nb]\n",
    "\n",
    "            predict_data = np.append(predict_data, np.mean(self.y[k_indices]))\n",
    "            \n",
    "        return predict_data"
   ]
  },
  {
   "cell_type": "code",
   "execution_count": 193,
   "id": "84f60e7e",
   "metadata": {},
   "outputs": [
    {
     "data": {
      "text/plain": [
       "array([ 72.47091452,  -4.34330342, -63.63331465,  -2.28723951,\n",
       "       -24.98349309,  73.33547437, -10.5800496 , -37.36470677,\n",
       "        18.78246268,  38.44786865,  14.19784409,  27.15349543,\n",
       "         7.01887818, -15.79019671,   0.49775107, -63.63331465,\n",
       "        -7.34481148,  81.47115853, -33.50549915, -32.63930475,\n",
       "        38.44786865,  -4.34330342,  25.37414958, -35.06844917,\n",
       "         7.01887818,   0.49775107,   3.43859188,  32.90281563,\n",
       "        38.44786865,   7.01887818, -12.38553864, -10.5800496 ,\n",
       "        30.07811993,  46.97166379, -33.50549915, -36.05195041,\n",
       "        -4.34330342,  40.40959042, -11.46768333,  32.90281563,\n",
       "        35.49607303,  18.78246268,  -9.01638164, -32.98129896,\n",
       "       -32.98129896, -68.78163941, -11.74882465, -40.93576025,\n",
       "       -11.74681679, -42.34679051,  -4.729809  ,  32.90281563,\n",
       "        52.86411151, -42.46405878,  19.09190237,  -0.99771809,\n",
       "       -24.98349309])"
      ]
     },
     "execution_count": 193,
     "metadata": {},
     "output_type": "execute_result"
    }
   ],
   "source": [
    "bebra = KNNRegressor(k_nb = 5)\n",
    "bebra.fit(X_train, y_train)\n",
    "bebra.predict(X_test)"
   ]
  },
  {
   "cell_type": "code",
   "execution_count": 194,
   "id": "447ec89c",
   "metadata": {},
   "outputs": [
    {
     "data": {
      "text/plain": [
       "array([ 72.47091452,  -4.34330342, -63.63331465,  -2.28723951,\n",
       "       -24.98349309,  73.33547437, -10.5800496 , -37.36470677,\n",
       "        18.78246268,  38.44786865,  14.19784409,  27.15349543,\n",
       "         7.01887818, -15.79019671,   0.49775107, -63.63331465,\n",
       "        -7.34481148,  81.47115853, -33.50549915, -32.63930475,\n",
       "        38.44786865,  -4.34330342,  25.37414958, -35.06844917,\n",
       "         7.01887818,   0.49775107,   3.43859188,  32.90281563,\n",
       "        38.44786865,   7.01887818, -12.38553864, -10.5800496 ,\n",
       "        30.07811993,  46.97166379, -33.50549915, -36.05195041,\n",
       "        -4.34330342,  40.40959042, -11.46768333,  32.90281563,\n",
       "        35.49607303,  18.78246268,  -9.01638164, -32.98129896,\n",
       "       -32.98129896, -68.78163941, -11.74882465, -40.93576025,\n",
       "       -11.74681679, -42.34679051,  -4.729809  ,  32.90281563,\n",
       "        52.86411151, -42.46405878,  19.09190237,  -0.99771809,\n",
       "       -24.98349309])"
      ]
     },
     "execution_count": 194,
     "metadata": {},
     "output_type": "execute_result"
    }
   ],
   "source": [
    "bobik = KNeighborsRegressor(n_neighbors = 5)\n",
    "bobik.fit(X_train, y_train)\n",
    "bobik.predict(X_test)"
   ]
  },
  {
   "cell_type": "code",
   "execution_count": null,
   "id": "4f5e7399",
   "metadata": {},
   "outputs": [],
   "source": []
  }
 ],
 "metadata": {
  "kernelspec": {
   "display_name": "Python 3 (ipykernel)",
   "language": "python",
   "name": "python3"
  },
  "language_info": {
   "codemirror_mode": {
    "name": "ipython",
    "version": 3
   },
   "file_extension": ".py",
   "mimetype": "text/x-python",
   "name": "python",
   "nbconvert_exporter": "python",
   "pygments_lexer": "ipython3",
   "version": "3.9.15"
  }
 },
 "nbformat": 4,
 "nbformat_minor": 5
}
