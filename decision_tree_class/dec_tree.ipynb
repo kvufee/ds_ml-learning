{
 "cells": [
  {
   "cell_type": "code",
   "execution_count": 1,
   "id": "a8d431a8-11d3-4daf-b929-150ff486fc27",
   "metadata": {},
   "outputs": [],
   "source": [
    "from typing import List, Tuple\n",
    "\n",
    "import numpy as np\n",
    "import pandas as pd\n",
    "from sklearn.datasets import make_classification\n",
    "from sklearn.model_selection import train_test_split\n",
    "from sklearn.tree import DecisionTreeClassifier\n",
    "import matplotlib.pyplot as plt"
   ]
  },
  {
   "cell_type": "code",
   "execution_count": 2,
   "id": "ec028e18-9315-45db-8be8-21763dddd40a",
   "metadata": {},
   "outputs": [
    {
     "data": {
      "text/plain": [
       "<matplotlib.collections.PathCollection at 0x2561306b350>"
      ]
     },
     "execution_count": 2,
     "metadata": {},
     "output_type": "execute_result"
    },
    {
     "data": {
      "image/png": "[encoded data removed]",
      "text/plain": [
       "<Figure size 640x480 with 1 Axes>"
      ]
     },
     "metadata": {},
     "output_type": "display_data"
    }
   ],
   "source": [
    "X, y = make_classification(n_samples=250, n_features=2, n_redundant=0, n_informative=2)\n",
    "X_train, X_test, y_train, y_test = train_test_split(X, y)\n",
    "plt.scatter(X[:, 0], X[:, 1], marker='v')"
   ]
  },
  {
   "cell_type": "code",
   "execution_count": 49,
   "id": "6c4e90ee-34c3-4e47-943b-30f956e15626",
   "metadata": {},
   "outputs": [],
   "source": [
    "    class Node():\n",
    "        def __init__(self, feature=None, threshold=None, left=None, right=None, value=None):\n",
    "            self.feature = feature\n",
    "            self.threshold = threshold\n",
    "            self.left = left\n",
    "            self.right = right\n",
    "            self.value = value\n",
    "\n",
    "        def isLeaf():\n",
    "            if Node.value is not None:\n",
    "                return True\n",
    "            else:\n",
    "                return False"
   ]
  },
  {
   "cell_type": "code",
   "execution_count": 50,
   "id": "8a3313ce-1954-4a58-96e4-7264d2c05c9b",
   "metadata": {},
   "outputs": [],
   "source": [
    "class DecisionTree():\n",
    "        \n",
    "    def __init__(self, min_samples=2, max_depth=10):\n",
    "        self.root = None\n",
    "        self.min_samples = min_samples\n",
    "        self.max_depth = max_depth\n",
    "        \n",
    "\n",
    "    def calcEntropy(self, y:List) -> float:\n",
    "        proba = np.bincount(y) / len(y)\n",
    "        return -np.sum([p * np.log2(p) for p in proba if p > 0])\n",
    "\n",
    "\n",
    "    def infoGain(self, X:List[List], y:List, threshold: float) -> float:\n",
    "        n = len(y)\n",
    "        left_data, right_data = self.splitData(X, threshold)\n",
    "        n_l, n_r = len(left_data), len(right_data)\n",
    "\n",
    "        parent_loss = self.calcEntropy(y)\n",
    "        child_loss = (n_l / n) * self.calcEntropy(y[left_data])  + (n_r / n) * self.calcEntropy(y[right_data])\n",
    "        return parent_loss - child_loss\n",
    "\n",
    "    \n",
    "    def splitData(self, X: List[List], threshold: int) -> Tuple:\n",
    "        left_data, right_data = np.argwhere(X <= threshold).flatten(), np.argwhere(X > threshold).flatten()\n",
    "        return left_data, right_data\n",
    "\n",
    "    \n",
    "    def buildTree(self, X:List[List], y:List, depth=0):\n",
    "        self.n_features, self.n_samples = len(X[0]), len(X)\n",
    "        self.n_classes = len(np.unique(y))\n",
    "\n",
    "        if depth >= self.max_depth or self.n_classes <= 1 or self.n_samples < self.min_samples:\n",
    "            return Node(value=max(np.bincount(y)))\n",
    "\n",
    "        rand_feature = np.random.choice(self.n_features, self.n_features, replace=False)\n",
    "    \n",
    "        _info_gain, split_idx, split_threshold = -1, None, None\n",
    "    \n",
    "        for _feat in rand_feature:\n",
    "            X_feature = X[:, _feat]\n",
    "            thresholds = np.unique(X_feature)\n",
    "            for threshold in thresholds:\n",
    "                curr_gain = self.infoGain(X_feature, y, threshold)\n",
    "                if curr_gain > _info_gain:\n",
    "                    _info_gain = curr_gain\n",
    "                    split_idx = _feat\n",
    "                    split_threshold = threshold\n",
    "    \n",
    "        left_idxs, right_idxs = self.splitData(X[:, split_idx], split_threshold)\n",
    "        left = self.buildTree(X[left_idxs, :], y[left_idxs], depth + 1)\n",
    "        right = self.buildTree(X[right_idxs, :], y[right_idxs], depth + 1)\n",
    "        \n",
    "        return Node(split_idx, split_threshold, left, right)\n",
    "\n",
    "    def traverseTree(self, X: List[List], node):            \n",
    "        I\n",
    "        \n",
    "        if x[node.feature] <= node.threshold:\n",
    "            return _traverse_tree(x, node.left)\n",
    "            \n",
    "        return traverseTree(x, node.right)\n",
    "\n",
    "    def fit(self, X:List[List], y:List):\n",
    "        self.root = self.buildTree(X, y)\n",
    "    \n",
    "    def predict(self, X:List[List]):\n",
    "        preds = [self.traverseTree(x, self.root) for x in X]\n",
    "        return np.array(predictions)\n"
   ]
  },
  {
   "cell_type": "code",
   "execution_count": 51,
   "id": "308d6539-8939-4f7d-9147-9db8b7f523d5",
   "metadata": {},
   "outputs": [
    {
     "name": "stdout",
     "output_type": "stream",
     "text": [
      "[1 1 0 0 1 1 1 0 0 0 0 1 0 1 1 0 1 0 0 1 1 0 1 0 0 1 1 0 1 1 1 0 0 1 1 1 1\n",
      " 0 0 0 1 0 1 0 1 0 0 0 0 1 1 1 0 1 1 1 0 0 1 1 0 1 0]\n"
     ]
    }
   ],
   "source": [
    "imported_dt = DecisionTreeClassifier(criterion='entropy')\n",
    "imported_dt.fit(X_train, y_train)\n",
    "print(imported_dt.predict(X_test))"
   ]
  },
  {
   "cell_type": "code",
   "execution_count": 52,
   "id": "a9a8422d-db73-45f9-a09a-710513dbbd6f",
   "metadata": {},
   "outputs": [
    {
     "ename": "NameError",
     "evalue": "name 'x' is not defined",
     "output_type": "error",
     "traceback": [
      "\u001b[1;31m---------------------------------------------------------------------------\u001b[0m",
      "\u001b[1;31mNameError\u001b[0m                                 Traceback (most recent call last)",
      "Cell \u001b[1;32mIn[52], line 3\u001b[0m\n\u001b[0;32m      1\u001b[0m my_dt \u001b[38;5;241m=\u001b[39m DecisionTree(max_depth\u001b[38;5;241m=\u001b[39m\u001b[38;5;241m1\u001b[39m)\n\u001b[0;32m      2\u001b[0m my_dt\u001b[38;5;241m.\u001b[39mfit(X_train, y_train)\n\u001b[1;32m----> 3\u001b[0m \u001b[38;5;28mprint\u001b[39m(\u001b[43mmy_dt\u001b[49m\u001b[38;5;241;43m.\u001b[39;49m\u001b[43mpredict\u001b[49m\u001b[43m(\u001b[49m\u001b[43mX_test\u001b[49m\u001b[43m)\u001b[49m)\n",
      "Cell \u001b[1;32mIn[50], line 66\u001b[0m, in \u001b[0;36mDecisionTree.predict\u001b[1;34m(self, X)\u001b[0m\n\u001b[0;32m     65\u001b[0m \u001b[38;5;28;01mdef\u001b[39;00m \u001b[38;5;21mpredict\u001b[39m(\u001b[38;5;28mself\u001b[39m, X:List[List]):\n\u001b[1;32m---> 66\u001b[0m     preds \u001b[38;5;241m=\u001b[39m [\u001b[38;5;28;43mself\u001b[39;49m\u001b[38;5;241;43m.\u001b[39;49m\u001b[43mtraverseTree\u001b[49m\u001b[43m(\u001b[49m\u001b[43mx\u001b[49m\u001b[43m,\u001b[49m\u001b[43m \u001b[49m\u001b[38;5;28;43mself\u001b[39;49m\u001b[38;5;241;43m.\u001b[39;49m\u001b[43mroot\u001b[49m\u001b[43m)\u001b[49m \u001b[38;5;28;01mfor\u001b[39;00m x \u001b[38;5;129;01min\u001b[39;00m X]\n\u001b[0;32m     67\u001b[0m     \u001b[38;5;28;01mreturn\u001b[39;00m np\u001b[38;5;241m.\u001b[39marray(predictions)\n",
      "Cell \u001b[1;32mIn[50], line 57\u001b[0m, in \u001b[0;36mDecisionTree.traverseTree\u001b[1;34m(self, X, node)\u001b[0m\n\u001b[0;32m     56\u001b[0m \u001b[38;5;28;01mdef\u001b[39;00m \u001b[38;5;21mtraverseTree\u001b[39m(\u001b[38;5;28mself\u001b[39m, X: List[List], node):            \n\u001b[1;32m---> 57\u001b[0m     \u001b[38;5;28;01mif\u001b[39;00m \u001b[43mx\u001b[49m[node\u001b[38;5;241m.\u001b[39mfeature] \u001b[38;5;241m<\u001b[39m\u001b[38;5;241m=\u001b[39m node\u001b[38;5;241m.\u001b[39mthreshold:\n\u001b[0;32m     58\u001b[0m         \u001b[38;5;28;01mreturn\u001b[39;00m _traverse_tree(x, node\u001b[38;5;241m.\u001b[39mleft)\n\u001b[0;32m     60\u001b[0m     \u001b[38;5;28;01mreturn\u001b[39;00m traverseTree(x, node\u001b[38;5;241m.\u001b[39mright)\n",
      "\u001b[1;31mNameError\u001b[0m: name 'x' is not defined"
     ]
    }
   ],
   "source": [
    "my_dt = DecisionTree(max_depth=1)\n",
    "my_dt.fit(X_train, y_train)\n",
    "print(my_dt.predict(X_test))"
   ]
  },
  {
   "cell_type": "code",
   "execution_count": null,
   "id": "e52ad2c1-e10d-4105-a5f3-ea490ab587b1",
   "metadata": {},
   "outputs": [],
   "source": []
  }
 ],
 "metadata": {
  "kernelspec": {
   "display_name": "Python 3 (ipykernel)",
   "language": "python",
   "name": "python3"
  },
  "language_info": {
   "codemirror_mode": {
    "name": "ipython",
    "version": 3
   },
   "file_extension": ".py",
   "mimetype": "text/x-python",
   "name": "python",
   "nbconvert_exporter": "python",
   "pygments_lexer": "ipython3",
   "version": "3.12.4"
  }
 },
 "nbformat": 4,
 "nbformat_minor": 5
}
