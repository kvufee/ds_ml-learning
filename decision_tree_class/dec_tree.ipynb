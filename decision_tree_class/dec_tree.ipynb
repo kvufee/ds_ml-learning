{
 "cells": [
  {
   "cell_type": "code",
   "execution_count": 55,
   "id": "a8d431a8-11d3-4daf-b929-150ff486fc27",
   "metadata": {},
   "outputs": [],
   "source": [
    "from typing import List, Tuple\n",
    "\n",
    "import numpy as np\n",
    "import pandas as pd\n",
    "from sklearn.datasets import make_classification\n",
    "from sklearn.model_selection import train_test_split\n",
    "from sklearn.tree import DecisionTreeClassifier\n",
    "import matplotlib.pyplot as plt"
   ]
  },
  {
   "cell_type": "code",
   "execution_count": 56,
   "id": "ec028e18-9315-45db-8be8-21763dddd40a",
   "metadata": {},
   "outputs": [
    {
     "data": {
      "text/plain": [
       "<matplotlib.collections.PathCollection at 0x1bc81152180>"
      ]
     },
     "execution_count": 56,
     "metadata": {},
     "output_type": "execute_result"
    },
    {
     "data": {
      "image/png": "[encoded data removed]",
      "text/plain": [
       "<Figure size 640x480 with 1 Axes>"
      ]
     },
     "metadata": {},
     "output_type": "display_data"
    }
   ],
   "source": [
    "X, y = make_classification(n_samples=250, n_features=2, n_redundant=0, n_informative=2)\n",
    "X_train, X_test, y_train, y_test = train_test_split(X, y)\n",
    "plt.scatter(X[:, 0], X[:, 1], marker='v')"
   ]
  },
  {
   "cell_type": "code",
   "execution_count": 57,
   "id": "ac497044-c953-43b1-bbe9-8c569f288e65",
   "metadata": {},
   "outputs": [],
   "source": [
    "class Node():\n",
    "    def __init__(self, feature=None, threshold=None, left=None, right=None, value=None):\n",
    "        self.feature = feature\n",
    "        self.threshold = threshold\n",
    "        self.left = left\n",
    "        self.right = right\n",
    "        self.value = value\n",
    "\n",
    "    def isLeaf(self) -> bool:\n",
    "        if self.value is not None:\n",
    "            return True\n",
    "        else:\n",
    "            return False"
   ]
  },
  {
   "cell_type": "code",
   "execution_count": 58,
   "id": "8a3313ce-1954-4a58-96e4-7264d2c05c9b",
   "metadata": {},
   "outputs": [
    {
     "ename": "SyntaxError",
     "evalue": "expected ':' (2883368714.py, line 28)",
     "output_type": "error",
     "traceback": [
      "\u001b[1;36m  Cell \u001b[1;32mIn[58], line 28\u001b[1;36m\u001b[0m\n\u001b[1;33m    def bestSplit(self, X, y, feature)\u001b[0m\n\u001b[1;37m                                      ^\u001b[0m\n\u001b[1;31mSyntaxError\u001b[0m\u001b[1;31m:\u001b[0m expected ':'\n"
     ]
    }
   ],
   "source": [
    "class DecisionTree():\n",
    "    def __init__(self, min_samples=2, max_depth=4):\n",
    "        self.root = None\n",
    "        self.min_samples = min_samples\n",
    "        self.max_depth = max_depth\n",
    "\n",
    "    \n",
    "    def splitData(self, X: List, threshold: int) -> Tuple:\n",
    "        left_data, right_data = np.argwhere(X <= threshold), np.argwhere(X > threshold)\n",
    "        return left_data, right_data\n",
    "\n",
    "    \n",
    "    def calcEntropy(self, y: List) -> float:\n",
    "        proba = np.bincount(y) / len(y)\n",
    "        return -np.sum([p * np.log2(p) for p in proba if p > 0])\n",
    "\n",
    "\n",
    "    def infoGain(self, X: List, y: list, threshold: float) -> float:\n",
    "        n = len(y)\n",
    "        left_data, right_data = self.splitData(X, threshold)\n",
    "        n_l, n_r = len(left_data), len(right_data)\n",
    "\n",
    "        parent_loss = self.entropy(y)\n",
    "        child_loss = np.sum((n_l / n) * self.entropy(y[left_data]), (n_r / n) * self.entropy(y[right_data]))\n",
    "        return parent_loss - child_loss\n",
    "\n",
    "\n",
    "    def bestSplit(self, X, y, feature):\n",
    "        pass\n",
    "\n",
    "\n",
    "    def buildTree():\n",
    "        pass\n",
    "\n",
    "\n",
    "    def fit():\n",
    "        pass\n",
    "\n",
    "\n",
    "    def predict():\n",
    "        pass"
   ]
  },
  {
   "cell_type": "code",
   "execution_count": null,
   "id": "308d6539-8939-4f7d-9147-9db8b7f523d5",
   "metadata": {},
   "outputs": [],
   "source": [
    "imported_dt = DecisionTreeClassifier(criterion='entropy')\n",
    "imported_dt.fit(X_train, y_train)\n",
    "print(imported_dt.predict(X_test))"
   ]
  },
  {
   "cell_type": "code",
   "execution_count": null,
   "id": "c95211b7-1ce6-4a8c-8779-82de287b60d3",
   "metadata": {},
   "outputs": [],
   "source": []
  }
 ],
 "metadata": {
  "kernelspec": {
   "display_name": "Python 3 (ipykernel)",
   "language": "python",
   "name": "python3"
  },
  "language_info": {
   "codemirror_mode": {
    "name": "ipython",
    "version": 3
   },
   "file_extension": ".py",
   "mimetype": "text/x-python",
   "name": "python",
   "nbconvert_exporter": "python",
   "pygments_lexer": "ipython3",
   "version": "3.12.4"
  }
 },
 "nbformat": 4,
 "nbformat_minor": 5
}
